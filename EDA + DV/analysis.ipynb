{
 "metadata": {
  "language_info": {
   "codemirror_mode": {
    "name": "ipython",
    "version": 3
   },
   "file_extension": ".py",
   "mimetype": "text/x-python",
   "name": "python",
   "nbconvert_exporter": "python",
   "pygments_lexer": "ipython3",
   "version": "3.6.7-final"
  },
  "orig_nbformat": 2,
  "kernelspec": {
   "name": "python3",
   "display_name": "Python 3",
   "language": "python"
  }
 },
 "nbformat": 4,
 "nbformat_minor": 2,
 "cells": [
  {
   "cell_type": "code",
   "execution_count": 1,
   "metadata": {},
   "outputs": [],
   "source": [
    "import pandas as pd\n",
    "import numpy as np"
   ]
  },
  {
   "cell_type": "code",
   "execution_count": 3,
   "metadata": {},
   "outputs": [],
   "source": [
    "df = pd.read_csv(\"clean.csv\")"
   ]
  },
  {
   "cell_type": "code",
   "execution_count": 4,
   "metadata": {},
   "outputs": [
    {
     "output_type": "execute_result",
     "data": {
      "text/plain": [
       "   Unnamed: 0               Name  Age Nationality  Overall  Potential  \\\n",
       "0           0           L. Messi   31   Argentina       94         94   \n",
       "1           1  Cristiano Ronaldo   33    Portugal       94         94   \n",
       "2           2          Neymar Jr   26      Brazil       92         93   \n",
       "3           3             De Gea   27       Spain       91         93   \n",
       "4           4       K. De Bruyne   27     Belgium       91         92   \n",
       "\n",
       "                  Club    Value   Wage  Special  ... Composure  Marking  \\\n",
       "0         FC Barcelona  €110.5M  €565K     2202  ...      96.0     33.0   \n",
       "1             Juventus     €77M  €405K     2228  ...      95.0     28.0   \n",
       "2  Paris Saint-Germain  €118.5M  €290K     2143  ...      94.0     27.0   \n",
       "3    Manchester United     €72M  €260K     1471  ...      68.0     15.0   \n",
       "4      Manchester City    €102M  €355K     2281  ...      88.0     68.0   \n",
       "\n",
       "   StandingTackle  SlidingTackle GKDiving GKHandling GKKicking GKPositioning  \\\n",
       "0            28.0           26.0      6.0       11.0      15.0          14.0   \n",
       "1            31.0           23.0      7.0       11.0      15.0          14.0   \n",
       "2            24.0           33.0      9.0        9.0      15.0          15.0   \n",
       "3            21.0           13.0     90.0       85.0      87.0          88.0   \n",
       "4            58.0           51.0     15.0       13.0       5.0          10.0   \n",
       "\n",
       "   GKReflexes Release Clause  \n",
       "0         8.0        €226.5M  \n",
       "1        11.0        €127.1M  \n",
       "2        11.0        €228.1M  \n",
       "3        94.0        €138.6M  \n",
       "4        13.0        €196.4M  \n",
       "\n",
       "[5 rows x 85 columns]"
      ],
      "text/html": "<div>\n<style scoped>\n    .dataframe tbody tr th:only-of-type {\n        vertical-align: middle;\n    }\n\n    .dataframe tbody tr th {\n        vertical-align: top;\n    }\n\n    .dataframe thead th {\n        text-align: right;\n    }\n</style>\n<table border=\"1\" class=\"dataframe\">\n  <thead>\n    <tr style=\"text-align: right;\">\n      <th></th>\n      <th>Unnamed: 0</th>\n      <th>Name</th>\n      <th>Age</th>\n      <th>Nationality</th>\n      <th>Overall</th>\n      <th>Potential</th>\n      <th>Club</th>\n      <th>Value</th>\n      <th>Wage</th>\n      <th>Special</th>\n      <th>...</th>\n      <th>Composure</th>\n      <th>Marking</th>\n      <th>StandingTackle</th>\n      <th>SlidingTackle</th>\n      <th>GKDiving</th>\n      <th>GKHandling</th>\n      <th>GKKicking</th>\n      <th>GKPositioning</th>\n      <th>GKReflexes</th>\n      <th>Release Clause</th>\n    </tr>\n  </thead>\n  <tbody>\n    <tr>\n      <th>0</th>\n      <td>0</td>\n      <td>L. Messi</td>\n      <td>31</td>\n      <td>Argentina</td>\n      <td>94</td>\n      <td>94</td>\n      <td>FC Barcelona</td>\n      <td>€110.5M</td>\n      <td>€565K</td>\n      <td>2202</td>\n      <td>...</td>\n      <td>96.0</td>\n      <td>33.0</td>\n      <td>28.0</td>\n      <td>26.0</td>\n      <td>6.0</td>\n      <td>11.0</td>\n      <td>15.0</td>\n      <td>14.0</td>\n      <td>8.0</td>\n      <td>€226.5M</td>\n    </tr>\n    <tr>\n      <th>1</th>\n      <td>1</td>\n      <td>Cristiano Ronaldo</td>\n      <td>33</td>\n      <td>Portugal</td>\n      <td>94</td>\n      <td>94</td>\n      <td>Juventus</td>\n      <td>€77M</td>\n      <td>€405K</td>\n      <td>2228</td>\n      <td>...</td>\n      <td>95.0</td>\n      <td>28.0</td>\n      <td>31.0</td>\n      <td>23.0</td>\n      <td>7.0</td>\n      <td>11.0</td>\n      <td>15.0</td>\n      <td>14.0</td>\n      <td>11.0</td>\n      <td>€127.1M</td>\n    </tr>\n    <tr>\n      <th>2</th>\n      <td>2</td>\n      <td>Neymar Jr</td>\n      <td>26</td>\n      <td>Brazil</td>\n      <td>92</td>\n      <td>93</td>\n      <td>Paris Saint-Germain</td>\n      <td>€118.5M</td>\n      <td>€290K</td>\n      <td>2143</td>\n      <td>...</td>\n      <td>94.0</td>\n      <td>27.0</td>\n      <td>24.0</td>\n      <td>33.0</td>\n      <td>9.0</td>\n      <td>9.0</td>\n      <td>15.0</td>\n      <td>15.0</td>\n      <td>11.0</td>\n      <td>€228.1M</td>\n    </tr>\n    <tr>\n      <th>3</th>\n      <td>3</td>\n      <td>De Gea</td>\n      <td>27</td>\n      <td>Spain</td>\n      <td>91</td>\n      <td>93</td>\n      <td>Manchester United</td>\n      <td>€72M</td>\n      <td>€260K</td>\n      <td>1471</td>\n      <td>...</td>\n      <td>68.0</td>\n      <td>15.0</td>\n      <td>21.0</td>\n      <td>13.0</td>\n      <td>90.0</td>\n      <td>85.0</td>\n      <td>87.0</td>\n      <td>88.0</td>\n      <td>94.0</td>\n      <td>€138.6M</td>\n    </tr>\n    <tr>\n      <th>4</th>\n      <td>4</td>\n      <td>K. De Bruyne</td>\n      <td>27</td>\n      <td>Belgium</td>\n      <td>91</td>\n      <td>92</td>\n      <td>Manchester City</td>\n      <td>€102M</td>\n      <td>€355K</td>\n      <td>2281</td>\n      <td>...</td>\n      <td>88.0</td>\n      <td>68.0</td>\n      <td>58.0</td>\n      <td>51.0</td>\n      <td>15.0</td>\n      <td>13.0</td>\n      <td>5.0</td>\n      <td>10.0</td>\n      <td>13.0</td>\n      <td>€196.4M</td>\n    </tr>\n  </tbody>\n</table>\n<p>5 rows × 85 columns</p>\n</div>"
     },
     "metadata": {},
     "execution_count": 4
    }
   ],
   "source": [
    "df.head()"
   ]
  },
  {
   "cell_type": "code",
   "execution_count": 5,
   "metadata": {},
   "outputs": [
    {
     "output_type": "execute_result",
     "data": {
      "text/plain": [
       "         Unnamed: 0           Age       Overall     Potential       Special  \\\n",
       "count  18207.000000  18207.000000  18207.000000  18207.000000  18207.000000   \n",
       "mean    9103.000000     25.122206     66.238699     71.307299   1597.809908   \n",
       "std     5256.052511      4.669943      6.908930      6.136496    272.586016   \n",
       "min        0.000000     16.000000     46.000000     48.000000    731.000000   \n",
       "25%     4551.500000     21.000000     62.000000     67.000000   1457.000000   \n",
       "50%     9103.000000     25.000000     66.000000     71.000000   1635.000000   \n",
       "75%    13654.500000     28.000000     71.000000     75.000000   1787.000000   \n",
       "max    18206.000000     45.000000     94.000000     95.000000   2346.000000   \n",
       "\n",
       "       International Reputation     Weak Foot   Skill Moves  Jersey Number  \\\n",
       "count              18207.000000  18207.000000  18207.000000   18207.000000   \n",
       "mean                   1.113222      2.947299      2.361308      19.546096   \n",
       "std                    0.393511      0.659585      0.755167      15.921465   \n",
       "min                    1.000000      1.000000      1.000000       1.000000   \n",
       "25%                    1.000000      3.000000      2.000000       8.000000   \n",
       "50%                    1.000000      3.000000      2.000000      17.000000   \n",
       "75%                    1.000000      3.000000      3.000000      26.000000   \n",
       "max                    5.000000      5.000000      5.000000      99.000000   \n",
       "\n",
       "           Crossing  ...     Penalties     Composure       Marking  \\\n",
       "count  18207.000000  ...  18207.000000  18207.000000  18207.000000   \n",
       "mean      49.734181  ...     48.548598     58.648274     47.281623   \n",
       "std       18.340299  ...     15.683338     11.421047     19.878141   \n",
       "min        5.000000  ...      5.000000      3.000000      3.000000   \n",
       "25%       38.000000  ...     39.000000     51.000000     30.000000   \n",
       "50%       54.000000  ...     49.000000     59.000000     53.000000   \n",
       "75%       64.000000  ...     60.000000     67.000000     64.000000   \n",
       "max       93.000000  ...     92.000000     96.000000     94.000000   \n",
       "\n",
       "       StandingTackle  SlidingTackle      GKDiving    GKHandling  \\\n",
       "count    18207.000000   18207.000000  18207.000000  18207.000000   \n",
       "mean        47.697836      45.661435     16.616223     16.391596   \n",
       "std         21.635426      21.261052     17.672007     16.884598   \n",
       "min          2.000000       3.000000      1.000000      1.000000   \n",
       "25%         27.000000      24.000000      8.000000      8.000000   \n",
       "50%         55.000000      52.000000     11.000000     11.000000   \n",
       "75%         66.000000      64.000000     14.000000     14.000000   \n",
       "max         93.000000      91.000000     90.000000     92.000000   \n",
       "\n",
       "          GKKicking  GKPositioning    GKReflexes  \n",
       "count  18207.000000   18207.000000  18207.000000  \n",
       "mean      16.232061      16.388898     16.710887  \n",
       "std       16.481095      17.012198     17.931434  \n",
       "min        1.000000       1.000000      1.000000  \n",
       "25%        8.000000       8.000000      8.000000  \n",
       "50%       11.000000      11.000000     11.000000  \n",
       "75%       14.000000      14.000000     14.000000  \n",
       "max       91.000000      90.000000     94.000000  \n",
       "\n",
       "[8 rows x 43 columns]"
      ],
      "text/html": "<div>\n<style scoped>\n    .dataframe tbody tr th:only-of-type {\n        vertical-align: middle;\n    }\n\n    .dataframe tbody tr th {\n        vertical-align: top;\n    }\n\n    .dataframe thead th {\n        text-align: right;\n    }\n</style>\n<table border=\"1\" class=\"dataframe\">\n  <thead>\n    <tr style=\"text-align: right;\">\n      <th></th>\n      <th>Unnamed: 0</th>\n      <th>Age</th>\n      <th>Overall</th>\n      <th>Potential</th>\n      <th>Special</th>\n      <th>International Reputation</th>\n      <th>Weak Foot</th>\n      <th>Skill Moves</th>\n      <th>Jersey Number</th>\n      <th>Crossing</th>\n      <th>...</th>\n      <th>Penalties</th>\n      <th>Composure</th>\n      <th>Marking</th>\n      <th>StandingTackle</th>\n      <th>SlidingTackle</th>\n      <th>GKDiving</th>\n      <th>GKHandling</th>\n      <th>GKKicking</th>\n      <th>GKPositioning</th>\n      <th>GKReflexes</th>\n    </tr>\n  </thead>\n  <tbody>\n    <tr>\n      <th>count</th>\n      <td>18207.000000</td>\n      <td>18207.000000</td>\n      <td>18207.000000</td>\n      <td>18207.000000</td>\n      <td>18207.000000</td>\n      <td>18207.000000</td>\n      <td>18207.000000</td>\n      <td>18207.000000</td>\n      <td>18207.000000</td>\n      <td>18207.000000</td>\n      <td>...</td>\n      <td>18207.000000</td>\n      <td>18207.000000</td>\n      <td>18207.000000</td>\n      <td>18207.000000</td>\n      <td>18207.000000</td>\n      <td>18207.000000</td>\n      <td>18207.000000</td>\n      <td>18207.000000</td>\n      <td>18207.000000</td>\n      <td>18207.000000</td>\n    </tr>\n    <tr>\n      <th>mean</th>\n      <td>9103.000000</td>\n      <td>25.122206</td>\n      <td>66.238699</td>\n      <td>71.307299</td>\n      <td>1597.809908</td>\n      <td>1.113222</td>\n      <td>2.947299</td>\n      <td>2.361308</td>\n      <td>19.546096</td>\n      <td>49.734181</td>\n      <td>...</td>\n      <td>48.548598</td>\n      <td>58.648274</td>\n      <td>47.281623</td>\n      <td>47.697836</td>\n      <td>45.661435</td>\n      <td>16.616223</td>\n      <td>16.391596</td>\n      <td>16.232061</td>\n      <td>16.388898</td>\n      <td>16.710887</td>\n    </tr>\n    <tr>\n      <th>std</th>\n      <td>5256.052511</td>\n      <td>4.669943</td>\n      <td>6.908930</td>\n      <td>6.136496</td>\n      <td>272.586016</td>\n      <td>0.393511</td>\n      <td>0.659585</td>\n      <td>0.755167</td>\n      <td>15.921465</td>\n      <td>18.340299</td>\n      <td>...</td>\n      <td>15.683338</td>\n      <td>11.421047</td>\n      <td>19.878141</td>\n      <td>21.635426</td>\n      <td>21.261052</td>\n      <td>17.672007</td>\n      <td>16.884598</td>\n      <td>16.481095</td>\n      <td>17.012198</td>\n      <td>17.931434</td>\n    </tr>\n    <tr>\n      <th>min</th>\n      <td>0.000000</td>\n      <td>16.000000</td>\n      <td>46.000000</td>\n      <td>48.000000</td>\n      <td>731.000000</td>\n      <td>1.000000</td>\n      <td>1.000000</td>\n      <td>1.000000</td>\n      <td>1.000000</td>\n      <td>5.000000</td>\n      <td>...</td>\n      <td>5.000000</td>\n      <td>3.000000</td>\n      <td>3.000000</td>\n      <td>2.000000</td>\n      <td>3.000000</td>\n      <td>1.000000</td>\n      <td>1.000000</td>\n      <td>1.000000</td>\n      <td>1.000000</td>\n      <td>1.000000</td>\n    </tr>\n    <tr>\n      <th>25%</th>\n      <td>4551.500000</td>\n      <td>21.000000</td>\n      <td>62.000000</td>\n      <td>67.000000</td>\n      <td>1457.000000</td>\n      <td>1.000000</td>\n      <td>3.000000</td>\n      <td>2.000000</td>\n      <td>8.000000</td>\n      <td>38.000000</td>\n      <td>...</td>\n      <td>39.000000</td>\n      <td>51.000000</td>\n      <td>30.000000</td>\n      <td>27.000000</td>\n      <td>24.000000</td>\n      <td>8.000000</td>\n      <td>8.000000</td>\n      <td>8.000000</td>\n      <td>8.000000</td>\n      <td>8.000000</td>\n    </tr>\n    <tr>\n      <th>50%</th>\n      <td>9103.000000</td>\n      <td>25.000000</td>\n      <td>66.000000</td>\n      <td>71.000000</td>\n      <td>1635.000000</td>\n      <td>1.000000</td>\n      <td>3.000000</td>\n      <td>2.000000</td>\n      <td>17.000000</td>\n      <td>54.000000</td>\n      <td>...</td>\n      <td>49.000000</td>\n      <td>59.000000</td>\n      <td>53.000000</td>\n      <td>55.000000</td>\n      <td>52.000000</td>\n      <td>11.000000</td>\n      <td>11.000000</td>\n      <td>11.000000</td>\n      <td>11.000000</td>\n      <td>11.000000</td>\n    </tr>\n    <tr>\n      <th>75%</th>\n      <td>13654.500000</td>\n      <td>28.000000</td>\n      <td>71.000000</td>\n      <td>75.000000</td>\n      <td>1787.000000</td>\n      <td>1.000000</td>\n      <td>3.000000</td>\n      <td>3.000000</td>\n      <td>26.000000</td>\n      <td>64.000000</td>\n      <td>...</td>\n      <td>60.000000</td>\n      <td>67.000000</td>\n      <td>64.000000</td>\n      <td>66.000000</td>\n      <td>64.000000</td>\n      <td>14.000000</td>\n      <td>14.000000</td>\n      <td>14.000000</td>\n      <td>14.000000</td>\n      <td>14.000000</td>\n    </tr>\n    <tr>\n      <th>max</th>\n      <td>18206.000000</td>\n      <td>45.000000</td>\n      <td>94.000000</td>\n      <td>95.000000</td>\n      <td>2346.000000</td>\n      <td>5.000000</td>\n      <td>5.000000</td>\n      <td>5.000000</td>\n      <td>99.000000</td>\n      <td>93.000000</td>\n      <td>...</td>\n      <td>92.000000</td>\n      <td>96.000000</td>\n      <td>94.000000</td>\n      <td>93.000000</td>\n      <td>91.000000</td>\n      <td>90.000000</td>\n      <td>92.000000</td>\n      <td>91.000000</td>\n      <td>90.000000</td>\n      <td>94.000000</td>\n    </tr>\n  </tbody>\n</table>\n<p>8 rows × 43 columns</p>\n</div>"
     },
     "metadata": {},
     "execution_count": 5
    }
   ],
   "source": [
    "df.describe()"
   ]
  },
  {
   "cell_type": "code",
   "execution_count": null,
   "metadata": {},
   "outputs": [],
   "source": []
  }
 ]
}