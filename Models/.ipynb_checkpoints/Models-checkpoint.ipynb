{
 "cells": [
  {
   "cell_type": "markdown",
   "metadata": {},
   "source": [
    "# Models for Overall Rating\n",
    "## Data Preprocessing"
   ]
  },
  {
   "cell_type": "code",
   "execution_count": 72,
   "metadata": {},
   "outputs": [
    {
     "data": {
      "text/html": [
       "<div>\n",
       "<style scoped>\n",
       "    .dataframe tbody tr th:only-of-type {\n",
       "        vertical-align: middle;\n",
       "    }\n",
       "\n",
       "    .dataframe tbody tr th {\n",
       "        vertical-align: top;\n",
       "    }\n",
       "\n",
       "    .dataframe thead th {\n",
       "        text-align: right;\n",
       "    }\n",
       "</style>\n",
       "<table border=\"1\" class=\"dataframe\">\n",
       "  <thead>\n",
       "    <tr style=\"text-align: right;\">\n",
       "      <th></th>\n",
       "      <th>Unnamed: 0</th>\n",
       "      <th>Name</th>\n",
       "      <th>Age</th>\n",
       "      <th>Nationality</th>\n",
       "      <th>Overall</th>\n",
       "      <th>Potential</th>\n",
       "      <th>Club</th>\n",
       "      <th>Special</th>\n",
       "      <th>Preferred Foot</th>\n",
       "      <th>International Reputation</th>\n",
       "      <th>...</th>\n",
       "      <th>GKDiving</th>\n",
       "      <th>GKHandling</th>\n",
       "      <th>GKKicking</th>\n",
       "      <th>GKPositioning</th>\n",
       "      <th>GKReflexes</th>\n",
       "      <th>Release Clause</th>\n",
       "      <th>Height in Cms</th>\n",
       "      <th>Weight in Pounds</th>\n",
       "      <th>Value in Pounds</th>\n",
       "      <th>Wage in Pounds</th>\n",
       "    </tr>\n",
       "  </thead>\n",
       "  <tbody>\n",
       "    <tr>\n",
       "      <th>0</th>\n",
       "      <td>0</td>\n",
       "      <td>L. Messi</td>\n",
       "      <td>31</td>\n",
       "      <td>Argentina</td>\n",
       "      <td>94</td>\n",
       "      <td>94</td>\n",
       "      <td>FC Barcelona</td>\n",
       "      <td>2202</td>\n",
       "      <td>Left</td>\n",
       "      <td>5.0</td>\n",
       "      <td>...</td>\n",
       "      <td>6.0</td>\n",
       "      <td>11.0</td>\n",
       "      <td>15.0</td>\n",
       "      <td>14.0</td>\n",
       "      <td>8.0</td>\n",
       "      <td>€226.5M</td>\n",
       "      <td>170.18</td>\n",
       "      <td>159</td>\n",
       "      <td>110500000.0</td>\n",
       "      <td>565000.0</td>\n",
       "    </tr>\n",
       "    <tr>\n",
       "      <th>1</th>\n",
       "      <td>1</td>\n",
       "      <td>Cristiano Ronaldo</td>\n",
       "      <td>33</td>\n",
       "      <td>Portugal</td>\n",
       "      <td>94</td>\n",
       "      <td>94</td>\n",
       "      <td>Juventus</td>\n",
       "      <td>2228</td>\n",
       "      <td>Right</td>\n",
       "      <td>5.0</td>\n",
       "      <td>...</td>\n",
       "      <td>7.0</td>\n",
       "      <td>11.0</td>\n",
       "      <td>15.0</td>\n",
       "      <td>14.0</td>\n",
       "      <td>11.0</td>\n",
       "      <td>€127.1M</td>\n",
       "      <td>187.96</td>\n",
       "      <td>183</td>\n",
       "      <td>77000000.0</td>\n",
       "      <td>405000.0</td>\n",
       "    </tr>\n",
       "    <tr>\n",
       "      <th>2</th>\n",
       "      <td>2</td>\n",
       "      <td>Neymar Jr</td>\n",
       "      <td>26</td>\n",
       "      <td>Brazil</td>\n",
       "      <td>92</td>\n",
       "      <td>93</td>\n",
       "      <td>Paris Saint-Germain</td>\n",
       "      <td>2143</td>\n",
       "      <td>Right</td>\n",
       "      <td>5.0</td>\n",
       "      <td>...</td>\n",
       "      <td>9.0</td>\n",
       "      <td>9.0</td>\n",
       "      <td>15.0</td>\n",
       "      <td>15.0</td>\n",
       "      <td>11.0</td>\n",
       "      <td>€228.1M</td>\n",
       "      <td>175.26</td>\n",
       "      <td>150</td>\n",
       "      <td>118500000.0</td>\n",
       "      <td>290000.0</td>\n",
       "    </tr>\n",
       "    <tr>\n",
       "      <th>3</th>\n",
       "      <td>3</td>\n",
       "      <td>De Gea</td>\n",
       "      <td>27</td>\n",
       "      <td>Spain</td>\n",
       "      <td>91</td>\n",
       "      <td>93</td>\n",
       "      <td>Manchester United</td>\n",
       "      <td>1471</td>\n",
       "      <td>Right</td>\n",
       "      <td>4.0</td>\n",
       "      <td>...</td>\n",
       "      <td>90.0</td>\n",
       "      <td>85.0</td>\n",
       "      <td>87.0</td>\n",
       "      <td>88.0</td>\n",
       "      <td>94.0</td>\n",
       "      <td>€138.6M</td>\n",
       "      <td>193.04</td>\n",
       "      <td>168</td>\n",
       "      <td>72000000.0</td>\n",
       "      <td>260000.0</td>\n",
       "    </tr>\n",
       "    <tr>\n",
       "      <th>4</th>\n",
       "      <td>4</td>\n",
       "      <td>K. De Bruyne</td>\n",
       "      <td>27</td>\n",
       "      <td>Belgium</td>\n",
       "      <td>91</td>\n",
       "      <td>92</td>\n",
       "      <td>Manchester City</td>\n",
       "      <td>2281</td>\n",
       "      <td>Right</td>\n",
       "      <td>4.0</td>\n",
       "      <td>...</td>\n",
       "      <td>15.0</td>\n",
       "      <td>13.0</td>\n",
       "      <td>5.0</td>\n",
       "      <td>10.0</td>\n",
       "      <td>13.0</td>\n",
       "      <td>€196.4M</td>\n",
       "      <td>180.34</td>\n",
       "      <td>154</td>\n",
       "      <td>102000000.0</td>\n",
       "      <td>355000.0</td>\n",
       "    </tr>\n",
       "  </tbody>\n",
       "</table>\n",
       "<p>5 rows × 85 columns</p>\n",
       "</div>"
      ],
      "text/plain": [
       "   Unnamed: 0               Name  Age Nationality  Overall  Potential  \\\n",
       "0           0           L. Messi   31   Argentina       94         94   \n",
       "1           1  Cristiano Ronaldo   33    Portugal       94         94   \n",
       "2           2          Neymar Jr   26      Brazil       92         93   \n",
       "3           3             De Gea   27       Spain       91         93   \n",
       "4           4       K. De Bruyne   27     Belgium       91         92   \n",
       "\n",
       "                  Club  Special Preferred Foot  International Reputation  ...  \\\n",
       "0         FC Barcelona     2202           Left                       5.0  ...   \n",
       "1             Juventus     2228          Right                       5.0  ...   \n",
       "2  Paris Saint-Germain     2143          Right                       5.0  ...   \n",
       "3    Manchester United     1471          Right                       4.0  ...   \n",
       "4      Manchester City     2281          Right                       4.0  ...   \n",
       "\n",
       "   GKDiving  GKHandling GKKicking GKPositioning GKReflexes Release Clause  \\\n",
       "0       6.0        11.0      15.0          14.0        8.0        €226.5M   \n",
       "1       7.0        11.0      15.0          14.0       11.0        €127.1M   \n",
       "2       9.0         9.0      15.0          15.0       11.0        €228.1M   \n",
       "3      90.0        85.0      87.0          88.0       94.0        €138.6M   \n",
       "4      15.0        13.0       5.0          10.0       13.0        €196.4M   \n",
       "\n",
       "   Height in Cms Weight in Pounds Value in Pounds Wage in Pounds  \n",
       "0         170.18              159     110500000.0       565000.0  \n",
       "1         187.96              183      77000000.0       405000.0  \n",
       "2         175.26              150     118500000.0       290000.0  \n",
       "3         193.04              168      72000000.0       260000.0  \n",
       "4         180.34              154     102000000.0       355000.0  \n",
       "\n",
       "[5 rows x 85 columns]"
      ]
     },
     "execution_count": 72,
     "metadata": {},
     "output_type": "execute_result"
    }
   ],
   "source": [
    "# Pandas is used for data manipulation\n",
    "import pandas as pd\n",
    "# Read in data and display first 5 rows\n",
    "df = pd.read_csv('clean.csv')\n",
    "df.head()"
   ]
  },
  {
   "cell_type": "code",
   "execution_count": 73,
   "metadata": {},
   "outputs": [
    {
     "name": "stdout",
     "output_type": "stream",
     "text": [
      "Name and type of varialbes are: \n",
      "\n",
      "Unnamed: 0            int64\n",
      "Name                 object\n",
      "Age                   int64\n",
      "Nationality          object\n",
      "Overall               int64\n",
      "                     ...   \n",
      "Release Clause       object\n",
      "Height in Cms       float64\n",
      "Weight in Pounds      int64\n",
      "Value in Pounds     float64\n",
      "Wage in Pounds      float64\n",
      "Length: 85, dtype: object\n",
      "\n",
      "The number of variables is 85\n",
      "...The number of categorical variables is 12\n",
      "...The number of continuous variable is 73\n",
      "List of continuous predictor:\n",
      "['Overall', 'Potential', 'Special', 'International Reputation', 'Weak Foot', 'Skill Moves', 'Jersey Number', 'LS', 'ST', 'RS', 'LW', 'LF', 'CF', 'RF', 'RW', 'LAM', 'CAM', 'RAM', 'LM', 'LCM', 'CM', 'RCM', 'RM', 'LWB', 'LDM', 'CDM', 'RDM', 'RWB', 'LB', 'LCB', 'CB', 'RCB', 'RB', 'Crossing', 'Finishing', 'HeadingAccuracy', 'ShortPassing', 'Volleys', 'Dribbling', 'Curve', 'FKAccuracy', 'LongPassing', 'BallControl', 'Acceleration', 'SprintSpeed', 'Agility', 'Reactions', 'Balance', 'ShotPower', 'Jumping', 'Stamina', 'Strength', 'LongShots', 'Aggression', 'Interceptions', 'Positioning', 'Vision', 'Penalties', 'Composure', 'Marking', 'StandingTackle', 'SlidingTackle', 'GKDiving', 'GKHandling', 'GKKicking', 'GKPositioning', 'GKReflexes', 'Height in Cms', 'Weight in Pounds', 'Value in Pounds', 'Wage in Pounds']\n",
      "List of categorical predictor:\n",
      "['Nationality', 'Club', 'Preferred Foot', 'Work Rate', 'Body Type', 'Real Face', 'Position', 'Joined', 'Loaned From', 'Contract Valid Until', 'Release Clause']\n"
     ]
    }
   ],
   "source": [
    "# Check type of predictor feature\n",
    "print('Name and type of varialbes are: \\n')\n",
    "print(df.dtypes)\n",
    "print('\\nThe number of variables is %d' %len(df.columns))\n",
    "print('...The number of categorical variables is %d' %(df.shape[1] - sum(df.dtypes=='float64') - sum(df.dtypes=='int64'))) # <- Count object type (Categorical variable) \n",
    "print('...The number of continuous variable is %d' %(sum(df.dtypes=='float64') + sum(df.dtypes=='int64'))) # <- Count float type (Continuos variable)\n",
    "\n",
    "list_predictor_continuous = []\n",
    "list_predictor_categorical = []\n",
    "\n",
    "for name in df.columns[3:]:\n",
    "    if df[name].dtype == 'float64' or df[name].dtype == 'int64':\n",
    "        list_predictor_continuous.append(name)\n",
    "    else:\n",
    "        list_predictor_categorical.append(name)\n",
    "\n",
    "print('List of continuous predictor:')\n",
    "print(list_predictor_continuous)\n",
    "print('List of categorical predictor:')\n",
    "print(list_predictor_categorical)"
   ]
  },
  {
   "cell_type": "code",
   "execution_count": 74,
   "metadata": {},
   "outputs": [],
   "source": [
    "cat_features = ['Nationality', 'Club', 'Work Rate','Real Face']\n",
    "features = ['ShortPassing','Dribbling','BallControl', 'Reactions','Interceptions', 'Positioning', 'Composure', 'Marking', 'StandingTackle', 'SlidingTackle']\n",
    "\n",
    "from sklearn.preprocessing import OrdinalEncoder, LabelEncoder, MinMaxScaler, StandardScaler, OneHotEncoder\n",
    "import numpy as np\n",
    "# Convert pd.serise to np.array\n",
    "Rredictor_Categorical = df.loc[:,cat_features].values\n",
    "Rredictor_Continuous = df.loc[:,features].values\n",
    "Response_overall = df.loc[:,'Overall'].values \n",
    "\n",
    "# Integer Encoding for Categorical variable\n",
    "enc_pred = OrdinalEncoder() # <- Keep this instance for inverse transform after prediction\n",
    "Rredictor_Categorical_en = enc_pred.fit_transform(Rredictor_Categorical)\n",
    "\n",
    "# MinMax Transform for Continuous variable\n",
    "scaler_pred = MinMaxScaler() # <- Keep this instance for inverse transform after prediction\n",
    "Rredictor = np.concatenate([Rredictor_Continuous, Rredictor_Categorical_en], axis = 1) # <- Include encoded categorical to make the same range\n",
    "Rredictor_scaled = scaler_pred.fit_transform(Rredictor)\n",
    "scaler_res = MinMaxScaler()\n",
    "Response_overall_scaled = scaler_res.fit_transform(Response_overall.reshape(-1,1))\n"
   ]
  },
  {
   "cell_type": "code",
   "execution_count": 75,
   "metadata": {},
   "outputs": [],
   "source": [
    "from sklearn.model_selection import train_test_split\n",
    "X_train, X_test, y_train, y_test = train_test_split(Rredictor, Response_overall_scaled, test_size=0.30)"
   ]
  },
  {
   "cell_type": "markdown",
   "metadata": {},
   "source": [
    "## Linear Regression"
   ]
  },
  {
   "cell_type": "code",
   "execution_count": 5,
   "metadata": {},
   "outputs": [],
   "source": [
    "from sklearn.linear_model import LinearRegression"
   ]
  },
  {
   "cell_type": "code",
   "execution_count": 6,
   "metadata": {},
   "outputs": [
    {
     "data": {
      "text/plain": [
       "LinearRegression()"
      ]
     },
     "execution_count": 6,
     "metadata": {},
     "output_type": "execute_result"
    }
   ],
   "source": [
    "regressor = LinearRegression()\n",
    "# fitting training set into object regressor\n",
    "regressor.fit(X_train,y_train)"
   ]
  },
  {
   "cell_type": "code",
   "execution_count": 8,
   "metadata": {},
   "outputs": [
    {
     "data": {
      "image/png": "[encoded data removed]",
      "text/plain": [
       "<Figure size 360x360 with 1 Axes>"
      ]
     },
     "metadata": {
      "needs_background": "light"
     },
     "output_type": "display_data"
    }
   ],
   "source": [
    "import matplotlib.pyplot as plt\n",
    "from sklearn.metrics import mean_squared_error\n",
    "# Estimate values for both training and testing data  \n",
    "y_train_est = regressor.predict(X_train)\n",
    "y_test_est = regressor.predict(X_test)\n",
    "# Visualize Prediction performance using True vs. Estiamte plot\n",
    "plt.figure(figsize = (5,5))\n",
    "plt.plot(y_train_est, y_train,'.',label = 'Training data (RMSE = %.4f)' %mean_squared_error(y_train, y_train_est))\n",
    "plt.plot(y_test_est, y_test, '.',label = 'Testing data (RMSE = %.4f)' %mean_squared_error(y_test, y_test_est))\n",
    "plt.plot([0,1],[0,1],'-r',label = '1:1 line')\n",
    "plt.title('Linear Regression')\n",
    "plt.xlabel('Estiamte (normalized Prod)')\n",
    "plt.ylabel('True (normalized Prod)')\n",
    "plt.legend()\n",
    "plt.tight_layout()"
   ]
  },
  {
   "cell_type": "code",
   "execution_count": 9,
   "metadata": {},
   "outputs": [
    {
     "data": {
      "image/png": "[encoded data removed]",
      "text/plain": [
       "<Figure size 432x288 with 1 Axes>"
      ]
     },
     "metadata": {
      "needs_background": "light"
     },
     "output_type": "display_data"
    }
   ],
   "source": [
    "# Visualising Actual and predicted values of Potential of player\n",
    "plt.scatter(y_test,y_test_est)\n",
    "plt.xlabel(\"Actual Overall\")\n",
    "plt.ylabel(\"Predicted Overall\")\n",
    "plt.show()\n"
   ]
  },
  {
   "cell_type": "code",
   "execution_count": 10,
   "metadata": {},
   "outputs": [
    {
     "name": "stdout",
     "output_type": "stream",
     "text": [
      "R2 score: 0.7718411811271374\n"
     ]
    }
   ],
   "source": [
    "from sklearn.metrics import r2_score\n",
    "print('R2 score: '+str(r2_score(y_test, y_test_est)))"
   ]
  },
  {
   "cell_type": "markdown",
   "metadata": {},
   "source": [
    "## Random Forest Regression"
   ]
  },
  {
   "cell_type": "code",
   "execution_count": 11,
   "metadata": {},
   "outputs": [
    {
     "name": "stderr",
     "output_type": "stream",
     "text": [
      "<ipython-input-11-24ed841b9491>:3: DataConversionWarning: A column-vector y was passed when a 1d array was expected. Please change the shape of y to (n_samples,), for example using ravel().\n",
      "  random.fit(X_train, y_train)\n"
     ]
    }
   ],
   "source": [
    "from sklearn.ensemble import RandomForestRegressor\n",
    "random = RandomForestRegressor()\n",
    "random.fit(X_train, y_train)\n",
    "y_pred_reg = random.predict(X_test)"
   ]
  },
  {
   "cell_type": "code",
   "execution_count": 12,
   "metadata": {},
   "outputs": [
    {
     "name": "stdout",
     "output_type": "stream",
     "text": [
      "R2 score: 0.9102066180766509\n"
     ]
    }
   ],
   "source": [
    "from sklearn.metrics import r2_score\n",
    "print('R2 score: '+str(r2_score(y_test, y_pred_reg)))"
   ]
  },
  {
   "cell_type": "code",
   "execution_count": 13,
   "metadata": {},
   "outputs": [
    {
     "data": {
      "image/png": "[encoded data removed]",
      "text/plain": [
       "<Figure size 360x360 with 1 Axes>"
      ]
     },
     "metadata": {
      "needs_background": "light"
     },
     "output_type": "display_data"
    }
   ],
   "source": [
    "import matplotlib.pyplot as plt\n",
    "from sklearn.metrics import mean_squared_error\n",
    "# Estimate values for both training and testing data  \n",
    "y_train_est = random.predict(X_train)\n",
    "y_test_est = random.predict(X_test)\n",
    "# Visualize Prediction performance using True vs. Estiamte plot\n",
    "plt.figure(figsize = (5,5))\n",
    "plt.plot(y_train_est, y_train,'.',label = 'Training data (RMSE = %.4f)' %mean_squared_error(y_train, y_train_est))\n",
    "plt.plot(y_test_est, y_test, '.',label = 'Testing data (RMSE = %.4f)' %mean_squared_error(y_test, y_test_est))\n",
    "plt.plot([0,1],[0,1],'-r',label = '1:1 line')\n",
    "plt.title('Linear Regression')\n",
    "plt.xlabel('Estiamte (normalized Prod)')\n",
    "plt.ylabel('True (normalized Prod)')\n",
    "plt.legend()\n",
    "plt.tight_layout()"
   ]
  },
  {
   "cell_type": "code",
   "execution_count": 14,
   "metadata": {},
   "outputs": [
    {
     "data": {
      "image/png": "[encoded data removed]",
      "text/plain": [
       "<Figure size 432x288 with 1 Axes>"
      ]
     },
     "metadata": {
      "needs_background": "light"
     },
     "output_type": "display_data"
    }
   ],
   "source": [
    "# Visualising Actual and predicted values of Potential of player\n",
    "plt.scatter(y_test,y_pred_reg)\n",
    "plt.xlabel(\"Actual Overall\")\n",
    "plt.ylabel(\"Predicted Overall\")\n",
    "plt.show()"
   ]
  },
  {
   "cell_type": "markdown",
   "metadata": {},
   "source": [
    "# Ridge Regression"
   ]
  },
  {
   "cell_type": "code",
   "execution_count": 15,
   "metadata": {},
   "outputs": [],
   "source": [
    "from sklearn.linear_model import Ridge \n",
    "  \n",
    "# Train the model  \n",
    "ridgeR = Ridge(alpha = 1) \n",
    "ridgeR.fit(X_train, y_train) \n",
    "y_pred_rid = ridgeR.predict(X_test) "
   ]
  },
  {
   "cell_type": "code",
   "execution_count": 16,
   "metadata": {},
   "outputs": [
    {
     "name": "stdout",
     "output_type": "stream",
     "text": [
      "R2 score: 0.771842167352832\n"
     ]
    }
   ],
   "source": [
    "print('R2 score: '+str(r2_score(y_test, y_pred_rid)))"
   ]
  },
  {
   "cell_type": "code",
   "execution_count": 17,
   "metadata": {},
   "outputs": [
    {
     "data": {
      "image/png": "[encoded data removed]",
      "text/plain": [
       "<Figure size 360x360 with 1 Axes>"
      ]
     },
     "metadata": {
      "needs_background": "light"
     },
     "output_type": "display_data"
    }
   ],
   "source": [
    "import matplotlib.pyplot as plt\n",
    "from sklearn.metrics import mean_squared_error\n",
    "# Estimate values for both training and testing data  \n",
    "y_train_est = ridgeR.predict(X_train)\n",
    "y_test_est = ridgeR.predict(X_test)\n",
    "# Visualize Prediction performance using True vs. Estiamte plot\n",
    "plt.figure(figsize = (5,5))\n",
    "plt.plot(y_train_est, y_train,'.',label = 'Training data (RMSE = %.4f)' %mean_squared_error(y_train, y_train_est))\n",
    "plt.plot(y_test_est, y_test, '.',label = 'Testing data (RMSE = %.4f)' %mean_squared_error(y_test, y_test_est))\n",
    "plt.plot([0,1],[0,1],'-r',label = '1:1 line')\n",
    "plt.title('Linear Regression')\n",
    "plt.xlabel('Estiamte (normalized Prod)')\n",
    "plt.ylabel('True (normalized Prod)')\n",
    "plt.legend()\n",
    "plt.tight_layout()"
   ]
  },
  {
   "cell_type": "code",
   "execution_count": 18,
   "metadata": {},
   "outputs": [
    {
     "data": {
      "image/png": "[encoded data removed]",
      "text/plain": [
       "<Figure size 432x288 with 1 Axes>"
      ]
     },
     "metadata": {
      "needs_background": "light"
     },
     "output_type": "display_data"
    }
   ],
   "source": [
    "# Visualising Actual and predicted values of Potential of player\n",
    "plt.scatter(y_test,y_pred_rid)\n",
    "plt.xlabel(\"Actual Overall\")\n",
    "plt.ylabel(\"Predicted Overall\")\n",
    "plt.show()"
   ]
  },
  {
   "cell_type": "markdown",
   "metadata": {},
   "source": [
    "# Lasso Regression"
   ]
  },
  {
   "cell_type": "code",
   "execution_count": 19,
   "metadata": {},
   "outputs": [],
   "source": [
    "# import Lasso regression from sklearn library \n",
    "from sklearn.linear_model import Lasso \n",
    "  \n",
    "# Train the model \n",
    "lasso = Lasso(alpha = 1) \n",
    "lasso.fit(X_train, y_train) \n",
    "y_pred_las = lasso.predict(X_test) "
   ]
  },
  {
   "cell_type": "code",
   "execution_count": 20,
   "metadata": {},
   "outputs": [
    {
     "name": "stdout",
     "output_type": "stream",
     "text": [
      "R2 score: 0.1681375044242397\n"
     ]
    }
   ],
   "source": [
    "print('R2 score: '+str(r2_score(y_test, y_pred_las)))"
   ]
  },
  {
   "cell_type": "code",
   "execution_count": 21,
   "metadata": {},
   "outputs": [
    {
     "data": {
      "image/png": "[encoded data removed]",
      "text/plain": [
       "<Figure size 432x288 with 1 Axes>"
      ]
     },
     "metadata": {
      "needs_background": "light"
     },
     "output_type": "display_data"
    }
   ],
   "source": [
    "# Visualising Actual and predicted values of Potential of player\n",
    "plt.scatter(y_test,y_pred_las)\n",
    "plt.xlabel(\"Actual Overall\")\n",
    "plt.ylabel(\"Predicted Overall\")\n",
    "plt.show()"
   ]
  },
  {
   "cell_type": "code",
   "execution_count": 22,
   "metadata": {},
   "outputs": [
    {
     "data": {
      "image/png": "[encoded data removed]",
      "text/plain": [
       "<Figure size 360x360 with 1 Axes>"
      ]
     },
     "metadata": {
      "needs_background": "light"
     },
     "output_type": "display_data"
    }
   ],
   "source": [
    "# Estimate values for both training and testing data  \n",
    "y_train_est = lasso.predict(X_train)\n",
    "y_test_est = lasso.predict(X_test)\n",
    "# Visualize Prediction performance using True vs. Estiamte plot\n",
    "plt.figure(figsize = (5,5))\n",
    "plt.plot(y_train_est, y_train,'.',label = 'Training data (RMSE = %.4f)' %mean_squared_error(y_train, y_train_est))\n",
    "plt.plot(y_test_est, y_test, '.',label = 'Testing data (RMSE = %.4f)' %mean_squared_error(y_test, y_test_est))\n",
    "plt.plot([0,1],[0,1],'-r',label = '1:1 line')\n",
    "plt.title('Linear Regression')\n",
    "plt.xlabel('Estiamte (normalized Prod)')\n",
    "plt.ylabel('True (normalized Prod)')\n",
    "plt.legend()\n",
    "plt.tight_layout()"
   ]
  },
  {
   "cell_type": "markdown",
   "metadata": {},
   "source": [
    "### Conclusion for Overall Rating\n",
    "The Random Forest Regression is the best model for Overall target variable. At the end I will implement the Random Forest Regression into the entire dataset. "
   ]
  },
  {
   "cell_type": "markdown",
   "metadata": {},
   "source": [
    "# Model for Work Rate"
   ]
  },
  {
   "cell_type": "code",
   "execution_count": 76,
   "metadata": {},
   "outputs": [
    {
     "data": {
      "text/html": [
       "<div>\n",
       "<style scoped>\n",
       "    .dataframe tbody tr th:only-of-type {\n",
       "        vertical-align: middle;\n",
       "    }\n",
       "\n",
       "    .dataframe tbody tr th {\n",
       "        vertical-align: top;\n",
       "    }\n",
       "\n",
       "    .dataframe thead th {\n",
       "        text-align: right;\n",
       "    }\n",
       "</style>\n",
       "<table border=\"1\" class=\"dataframe\">\n",
       "  <thead>\n",
       "    <tr style=\"text-align: right;\">\n",
       "      <th></th>\n",
       "      <th>Unnamed: 0</th>\n",
       "      <th>Name</th>\n",
       "      <th>Age</th>\n",
       "      <th>Nationality</th>\n",
       "      <th>Overall</th>\n",
       "      <th>Potential</th>\n",
       "      <th>Club</th>\n",
       "      <th>Special</th>\n",
       "      <th>Preferred Foot</th>\n",
       "      <th>International Reputation</th>\n",
       "      <th>...</th>\n",
       "      <th>GKDiving</th>\n",
       "      <th>GKHandling</th>\n",
       "      <th>GKKicking</th>\n",
       "      <th>GKPositioning</th>\n",
       "      <th>GKReflexes</th>\n",
       "      <th>Release Clause</th>\n",
       "      <th>Height in Cms</th>\n",
       "      <th>Weight in Pounds</th>\n",
       "      <th>Value in Pounds</th>\n",
       "      <th>Wage in Pounds</th>\n",
       "    </tr>\n",
       "  </thead>\n",
       "  <tbody>\n",
       "    <tr>\n",
       "      <th>0</th>\n",
       "      <td>0</td>\n",
       "      <td>L. Messi</td>\n",
       "      <td>31</td>\n",
       "      <td>Argentina</td>\n",
       "      <td>94</td>\n",
       "      <td>94</td>\n",
       "      <td>FC Barcelona</td>\n",
       "      <td>2202</td>\n",
       "      <td>Left</td>\n",
       "      <td>5.0</td>\n",
       "      <td>...</td>\n",
       "      <td>6.0</td>\n",
       "      <td>11.0</td>\n",
       "      <td>15.0</td>\n",
       "      <td>14.0</td>\n",
       "      <td>8.0</td>\n",
       "      <td>€226.5M</td>\n",
       "      <td>170.18</td>\n",
       "      <td>159</td>\n",
       "      <td>110500000.0</td>\n",
       "      <td>565000.0</td>\n",
       "    </tr>\n",
       "    <tr>\n",
       "      <th>1</th>\n",
       "      <td>1</td>\n",
       "      <td>Cristiano Ronaldo</td>\n",
       "      <td>33</td>\n",
       "      <td>Portugal</td>\n",
       "      <td>94</td>\n",
       "      <td>94</td>\n",
       "      <td>Juventus</td>\n",
       "      <td>2228</td>\n",
       "      <td>Right</td>\n",
       "      <td>5.0</td>\n",
       "      <td>...</td>\n",
       "      <td>7.0</td>\n",
       "      <td>11.0</td>\n",
       "      <td>15.0</td>\n",
       "      <td>14.0</td>\n",
       "      <td>11.0</td>\n",
       "      <td>€127.1M</td>\n",
       "      <td>187.96</td>\n",
       "      <td>183</td>\n",
       "      <td>77000000.0</td>\n",
       "      <td>405000.0</td>\n",
       "    </tr>\n",
       "    <tr>\n",
       "      <th>2</th>\n",
       "      <td>2</td>\n",
       "      <td>Neymar Jr</td>\n",
       "      <td>26</td>\n",
       "      <td>Brazil</td>\n",
       "      <td>92</td>\n",
       "      <td>93</td>\n",
       "      <td>Paris Saint-Germain</td>\n",
       "      <td>2143</td>\n",
       "      <td>Right</td>\n",
       "      <td>5.0</td>\n",
       "      <td>...</td>\n",
       "      <td>9.0</td>\n",
       "      <td>9.0</td>\n",
       "      <td>15.0</td>\n",
       "      <td>15.0</td>\n",
       "      <td>11.0</td>\n",
       "      <td>€228.1M</td>\n",
       "      <td>175.26</td>\n",
       "      <td>150</td>\n",
       "      <td>118500000.0</td>\n",
       "      <td>290000.0</td>\n",
       "    </tr>\n",
       "    <tr>\n",
       "      <th>3</th>\n",
       "      <td>3</td>\n",
       "      <td>De Gea</td>\n",
       "      <td>27</td>\n",
       "      <td>Spain</td>\n",
       "      <td>91</td>\n",
       "      <td>93</td>\n",
       "      <td>Manchester United</td>\n",
       "      <td>1471</td>\n",
       "      <td>Right</td>\n",
       "      <td>4.0</td>\n",
       "      <td>...</td>\n",
       "      <td>90.0</td>\n",
       "      <td>85.0</td>\n",
       "      <td>87.0</td>\n",
       "      <td>88.0</td>\n",
       "      <td>94.0</td>\n",
       "      <td>€138.6M</td>\n",
       "      <td>193.04</td>\n",
       "      <td>168</td>\n",
       "      <td>72000000.0</td>\n",
       "      <td>260000.0</td>\n",
       "    </tr>\n",
       "    <tr>\n",
       "      <th>4</th>\n",
       "      <td>4</td>\n",
       "      <td>K. De Bruyne</td>\n",
       "      <td>27</td>\n",
       "      <td>Belgium</td>\n",
       "      <td>91</td>\n",
       "      <td>92</td>\n",
       "      <td>Manchester City</td>\n",
       "      <td>2281</td>\n",
       "      <td>Right</td>\n",
       "      <td>4.0</td>\n",
       "      <td>...</td>\n",
       "      <td>15.0</td>\n",
       "      <td>13.0</td>\n",
       "      <td>5.0</td>\n",
       "      <td>10.0</td>\n",
       "      <td>13.0</td>\n",
       "      <td>€196.4M</td>\n",
       "      <td>180.34</td>\n",
       "      <td>154</td>\n",
       "      <td>102000000.0</td>\n",
       "      <td>355000.0</td>\n",
       "    </tr>\n",
       "  </tbody>\n",
       "</table>\n",
       "<p>5 rows × 85 columns</p>\n",
       "</div>"
      ],
      "text/plain": [
       "   Unnamed: 0               Name  Age Nationality  Overall  Potential  \\\n",
       "0           0           L. Messi   31   Argentina       94         94   \n",
       "1           1  Cristiano Ronaldo   33    Portugal       94         94   \n",
       "2           2          Neymar Jr   26      Brazil       92         93   \n",
       "3           3             De Gea   27       Spain       91         93   \n",
       "4           4       K. De Bruyne   27     Belgium       91         92   \n",
       "\n",
       "                  Club  Special Preferred Foot  International Reputation  ...  \\\n",
       "0         FC Barcelona     2202           Left                       5.0  ...   \n",
       "1             Juventus     2228          Right                       5.0  ...   \n",
       "2  Paris Saint-Germain     2143          Right                       5.0  ...   \n",
       "3    Manchester United     1471          Right                       4.0  ...   \n",
       "4      Manchester City     2281          Right                       4.0  ...   \n",
       "\n",
       "   GKDiving  GKHandling GKKicking GKPositioning GKReflexes Release Clause  \\\n",
       "0       6.0        11.0      15.0          14.0        8.0        €226.5M   \n",
       "1       7.0        11.0      15.0          14.0       11.0        €127.1M   \n",
       "2       9.0         9.0      15.0          15.0       11.0        €228.1M   \n",
       "3      90.0        85.0      87.0          88.0       94.0        €138.6M   \n",
       "4      15.0        13.0       5.0          10.0       13.0        €196.4M   \n",
       "\n",
       "   Height in Cms Weight in Pounds Value in Pounds Wage in Pounds  \n",
       "0         170.18              159     110500000.0       565000.0  \n",
       "1         187.96              183      77000000.0       405000.0  \n",
       "2         175.26              150     118500000.0       290000.0  \n",
       "3         193.04              168      72000000.0       260000.0  \n",
       "4         180.34              154     102000000.0       355000.0  \n",
       "\n",
       "[5 rows x 85 columns]"
      ]
     },
     "execution_count": 76,
     "metadata": {},
     "output_type": "execute_result"
    }
   ],
   "source": [
    "# Pandas is used for data manipulation\n",
    "import pandas as pd\n",
    "# Read in data and display first 5 rows\n",
    "df = pd.read_csv('clean.csv')\n",
    "df.head()"
   ]
  },
  {
   "cell_type": "code",
   "execution_count": 77,
   "metadata": {},
   "outputs": [
    {
     "name": "stdout",
     "output_type": "stream",
     "text": [
      "Name and type of varialbes are: \n",
      "\n",
      "Unnamed: 0            int64\n",
      "Name                 object\n",
      "Age                   int64\n",
      "Nationality          object\n",
      "Overall               int64\n",
      "                     ...   \n",
      "Release Clause       object\n",
      "Height in Cms       float64\n",
      "Weight in Pounds      int64\n",
      "Value in Pounds     float64\n",
      "Wage in Pounds      float64\n",
      "Length: 85, dtype: object\n",
      "\n",
      "The number of variables is 85\n",
      "...The number of categorical variables is 12\n",
      "...The number of continuous variable is 73\n",
      "List of continuous predictor:\n",
      "['Overall', 'Potential', 'Special', 'International Reputation', 'Weak Foot', 'Skill Moves', 'Jersey Number', 'LS', 'ST', 'RS', 'LW', 'LF', 'CF', 'RF', 'RW', 'LAM', 'CAM', 'RAM', 'LM', 'LCM', 'CM', 'RCM', 'RM', 'LWB', 'LDM', 'CDM', 'RDM', 'RWB', 'LB', 'LCB', 'CB', 'RCB', 'RB', 'Crossing', 'Finishing', 'HeadingAccuracy', 'ShortPassing', 'Volleys', 'Dribbling', 'Curve', 'FKAccuracy', 'LongPassing', 'BallControl', 'Acceleration', 'SprintSpeed', 'Agility', 'Reactions', 'Balance', 'ShotPower', 'Jumping', 'Stamina', 'Strength', 'LongShots', 'Aggression', 'Interceptions', 'Positioning', 'Vision', 'Penalties', 'Composure', 'Marking', 'StandingTackle', 'SlidingTackle', 'GKDiving', 'GKHandling', 'GKKicking', 'GKPositioning', 'GKReflexes', 'Height in Cms', 'Weight in Pounds', 'Value in Pounds', 'Wage in Pounds']\n",
      "List of categorical predictor:\n",
      "['Nationality', 'Club', 'Preferred Foot', 'Work Rate', 'Body Type', 'Real Face', 'Position', 'Joined', 'Loaned From', 'Contract Valid Until', 'Release Clause']\n"
     ]
    }
   ],
   "source": [
    "# Check type of predictor feature\n",
    "print('Name and type of varialbes are: \\n')\n",
    "print(df.dtypes)\n",
    "print('\\nThe number of variables is %d' %len(df.columns))\n",
    "print('...The number of categorical variables is %d' %(df.shape[1] - sum(df.dtypes=='float64') - sum(df.dtypes=='int64'))) # <- Count object type (Categorical variable) \n",
    "print('...The number of continuous variable is %d' %(sum(df.dtypes=='float64') + sum(df.dtypes=='int64'))) # <- Count float type (Continuos variable)\n",
    "\n",
    "list_predictor_continuous = []\n",
    "list_predictor_categorical = []\n",
    "\n",
    "for name in df.columns[3:]:\n",
    "    if df[name].dtype == 'float64' or df[name].dtype == 'int64':\n",
    "        list_predictor_continuous.append(name)\n",
    "    else:\n",
    "        list_predictor_categorical.append(name)\n",
    "\n",
    "print('List of continuous predictor:')\n",
    "print(list_predictor_continuous)\n",
    "print('List of categorical predictor:')\n",
    "print(list_predictor_categorical)"
   ]
  },
  {
   "cell_type": "code",
   "execution_count": 78,
   "metadata": {},
   "outputs": [],
   "source": [
    "cat_features = ['Nationality', 'Club', 'Position']\n",
    "features = ['Stamina','SprintSpeed','BallControl','GKHandling', 'Positioning', 'ShortPassing', 'Aggression', 'Acceleration', 'SlidingTackle', 'Volleys']\n",
    "\n",
    "from sklearn.preprocessing import OrdinalEncoder, LabelEncoder, MinMaxScaler, StandardScaler, OneHotEncoder\n",
    "import numpy as np\n",
    "# Convert pd.serise to np.array\n",
    "Rredictor_Categorical = df.loc[:,cat_features].values\n",
    "Rredictor_Continuous = df.loc[:,features].values\n",
    "Response_failtype = df.loc[:,'Work Rate'].values\n",
    "Rredictor = np.concatenate([Rredictor_Continuous, Rredictor_Categorical_en], axis = 1)\n",
    "\n",
    "# Integer Encoding for Categorical variable\n",
    "enc_pred = OrdinalEncoder() # <- Keep this instance for inverse transform after prediction\n",
    "Rredictor_Categorical_en = enc_pred.fit_transform(Rredictor_Categorical)\n",
    "enc_res = OneHotEncoder()\n",
    "Response_WR_en = enc_res.fit_transform(Response_failtype.reshape(-1,1)).todense()"
   ]
  },
  {
   "cell_type": "code",
   "execution_count": 79,
   "metadata": {},
   "outputs": [],
   "source": [
    "from sklearn.model_selection import train_test_split\n",
    "X_train, X_test, y_train, y_test = train_test_split(Rredictor, Response_WR_en, test_size=0.30, random_state=77777)"
   ]
  },
  {
   "cell_type": "markdown",
   "metadata": {},
   "source": [
    "## Random Forest Clasifier"
   ]
  },
  {
   "cell_type": "code",
   "execution_count": 61,
   "metadata": {},
   "outputs": [
    {
     "data": {
      "text/plain": [
       "RandomForestClassifier(criterion='entropy', max_depth=9, min_samples_split=3)"
      ]
     },
     "execution_count": 61,
     "metadata": {},
     "output_type": "execute_result"
    }
   ],
   "source": [
    "from sklearn.ensemble import RandomForestClassifier\n",
    "rf = RandomForestClassifier(max_depth=9, criterion='entropy', min_samples_split=3)\n",
    "rf.fit(X_train, y_train)"
   ]
  },
  {
   "cell_type": "code",
   "execution_count": 62,
   "metadata": {},
   "outputs": [],
   "source": [
    "y_pred_WR = rf.predict(X_test)"
   ]
  },
  {
   "cell_type": "code",
   "execution_count": 63,
   "metadata": {},
   "outputs": [
    {
     "name": "stdout",
     "output_type": "stream",
     "text": [
      "0.3895295625114406\n"
     ]
    }
   ],
   "source": [
    "from sklearn.metrics import accuracy_score\n",
    "print(accuracy_score(y_test, y_pred_WR))"
   ]
  },
  {
   "cell_type": "markdown",
   "metadata": {},
   "source": [
    "## Decision Tree Classifer"
   ]
  },
  {
   "cell_type": "code",
   "execution_count": 64,
   "metadata": {},
   "outputs": [],
   "source": [
    "from sklearn import tree\n",
    "dt = tree.DecisionTreeClassifier()"
   ]
  },
  {
   "cell_type": "code",
   "execution_count": 65,
   "metadata": {},
   "outputs": [
    {
     "data": {
      "text/plain": [
       "DecisionTreeClassifier()"
      ]
     },
     "execution_count": 65,
     "metadata": {},
     "output_type": "execute_result"
    }
   ],
   "source": [
    "dt.fit(X_train, y_train)"
   ]
  },
  {
   "cell_type": "code",
   "execution_count": 66,
   "metadata": {},
   "outputs": [],
   "source": [
    "y_pred_WRdt = dt.predict(X_test)"
   ]
  },
  {
   "cell_type": "code",
   "execution_count": 67,
   "metadata": {},
   "outputs": [
    {
     "name": "stdout",
     "output_type": "stream",
     "text": [
      "0.45011898224418817\n"
     ]
    }
   ],
   "source": [
    "print(accuracy_score(y_test, y_pred_WRdt))"
   ]
  },
  {
   "cell_type": "markdown",
   "metadata": {},
   "source": [
    "## TensorFlow Neural Network"
   ]
  },
  {
   "cell_type": "code",
   "execution_count": 80,
   "metadata": {},
   "outputs": [],
   "source": [
    "Rredictor_scaled = scaler_pred.fit_transform(Rredictor)"
   ]
  },
  {
   "cell_type": "code",
   "execution_count": 81,
   "metadata": {},
   "outputs": [],
   "source": [
    "# Tensorflow 2.1.0 version \n",
    "import tensorflow as tf\n",
    "from tensorflow.keras.layers import *\n",
    "from tensorflow.keras.models import Model\n",
    "from tensorflow.keras.optimizers import Adam"
   ]
  },
  {
   "cell_type": "code",
   "execution_count": 82,
   "metadata": {},
   "outputs": [],
   "source": [
    "from tensorflow.keras import *"
   ]
  },
  {
   "cell_type": "code",
   "execution_count": 83,
   "metadata": {},
   "outputs": [],
   "source": [
    "# Define Input and Output shape\n",
    "input_shape = (Rredictor_scaled.shape[-1],)\n",
    "n_class = Response_WR_en.shape[-1]\n",
    "\n",
    "# Build a Neural Network\n",
    "model = Sequential()\n",
    "model.add(Dense(40,activation='relu',input_shape=input_shape))\n",
    "model.add(Dense(40,activation='relu'))\n",
    "model.add(Dense(40,activation='relu'))\n",
    "model.add(Dense(40,activation='relu'))\n",
    "model.add(Dense(n_class, activation='softmax'))\n",
    "\n",
    "# Compile the Neural Network - define Loss and optimizer to tune the associated weights\n",
    "model.compile(loss='categorical_crossentropy', metrics=['accuracy'], optimizer='adam')\n"
   ]
  },
  {
   "cell_type": "code",
   "execution_count": 84,
   "metadata": {},
   "outputs": [
    {
     "name": "stdout",
     "output_type": "stream",
     "text": [
      "Epoch 1/100\n",
      "255/255 - 1s - loss: 2.6683 - accuracy: 0.4665 - val_loss: 1.5415 - val_accuracy: 0.4604\n",
      "Epoch 2/100\n",
      "255/255 - 1s - loss: 1.3326 - accuracy: 0.5439 - val_loss: 1.2676 - val_accuracy: 0.5680\n",
      "Epoch 3/100\n",
      "255/255 - 0s - loss: 1.0592 - accuracy: 0.6480 - val_loss: 0.9666 - val_accuracy: 0.6617\n",
      "Epoch 4/100\n",
      "255/255 - 0s - loss: 0.7750 - accuracy: 0.7331 - val_loss: 0.7143 - val_accuracy: 0.7373\n",
      "Epoch 5/100\n",
      "255/255 - 0s - loss: 0.6077 - accuracy: 0.7832 - val_loss: 0.5381 - val_accuracy: 0.8159\n",
      "Epoch 6/100\n",
      "255/255 - 0s - loss: 0.4693 - accuracy: 0.8284 - val_loss: 0.5046 - val_accuracy: 0.8250\n",
      "Epoch 7/100\n",
      "255/255 - 0s - loss: 0.4017 - accuracy: 0.8520 - val_loss: 0.3604 - val_accuracy: 0.8680\n",
      "Epoch 8/100\n",
      "255/255 - 0s - loss: 0.3259 - accuracy: 0.8834 - val_loss: 0.3148 - val_accuracy: 0.8869\n",
      "Epoch 9/100\n",
      "255/255 - 0s - loss: 0.3081 - accuracy: 0.8853 - val_loss: 0.3208 - val_accuracy: 0.8757\n",
      "Epoch 10/100\n",
      "255/255 - 0s - loss: 0.2549 - accuracy: 0.9051 - val_loss: 0.2499 - val_accuracy: 0.9110\n",
      "Epoch 11/100\n",
      "255/255 - 0s - loss: 0.2523 - accuracy: 0.9023 - val_loss: 0.2337 - val_accuracy: 0.9220\n",
      "Epoch 12/100\n",
      "255/255 - 0s - loss: 0.2250 - accuracy: 0.9142 - val_loss: 0.2932 - val_accuracy: 0.8854\n",
      "Epoch 13/100\n",
      "255/255 - 0s - loss: 0.2145 - accuracy: 0.9200 - val_loss: 0.4337 - val_accuracy: 0.8530\n",
      "Epoch 14/100\n",
      "255/255 - 0s - loss: 0.2037 - accuracy: 0.9233 - val_loss: 0.2436 - val_accuracy: 0.9008\n",
      "Epoch 15/100\n",
      "255/255 - 0s - loss: 0.1994 - accuracy: 0.9237 - val_loss: 0.2530 - val_accuracy: 0.9103\n",
      "Epoch 16/100\n",
      "255/255 - 1s - loss: 0.1895 - accuracy: 0.9280 - val_loss: 0.2339 - val_accuracy: 0.9061\n",
      "Epoch 17/100\n",
      "255/255 - 0s - loss: 0.1798 - accuracy: 0.9320 - val_loss: 0.2284 - val_accuracy: 0.9149\n",
      "Epoch 18/100\n",
      "255/255 - 1s - loss: 0.1828 - accuracy: 0.9304 - val_loss: 0.1909 - val_accuracy: 0.9281\n",
      "Epoch 19/100\n",
      "255/255 - 0s - loss: 0.1653 - accuracy: 0.9395 - val_loss: 0.1959 - val_accuracy: 0.9231\n",
      "Epoch 20/100\n",
      "255/255 - 0s - loss: 0.1738 - accuracy: 0.9347 - val_loss: 0.1947 - val_accuracy: 0.9222\n",
      "Epoch 21/100\n",
      "255/255 - 0s - loss: 0.1651 - accuracy: 0.9364 - val_loss: 0.2444 - val_accuracy: 0.9110\n",
      "Epoch 22/100\n",
      "255/255 - 0s - loss: 0.1736 - accuracy: 0.9362 - val_loss: 0.1717 - val_accuracy: 0.9310\n",
      "Epoch 23/100\n",
      "255/255 - 0s - loss: 0.1734 - accuracy: 0.9382 - val_loss: 0.1383 - val_accuracy: 0.9475\n",
      "Epoch 24/100\n",
      "255/255 - 0s - loss: 0.1423 - accuracy: 0.9462 - val_loss: 0.1642 - val_accuracy: 0.9389\n",
      "Epoch 25/100\n",
      "255/255 - 0s - loss: 0.1208 - accuracy: 0.9557 - val_loss: 0.1441 - val_accuracy: 0.9442\n",
      "Epoch 26/100\n",
      "255/255 - 0s - loss: 0.1471 - accuracy: 0.9429 - val_loss: 0.1358 - val_accuracy: 0.9480\n",
      "Epoch 27/100\n",
      "255/255 - 1s - loss: 0.1339 - accuracy: 0.9490 - val_loss: 0.1578 - val_accuracy: 0.9409\n",
      "Epoch 28/100\n",
      "255/255 - 0s - loss: 0.1280 - accuracy: 0.9517 - val_loss: 0.1211 - val_accuracy: 0.9559\n",
      "Epoch 29/100\n",
      "255/255 - 1s - loss: 0.1239 - accuracy: 0.9518 - val_loss: 0.3490 - val_accuracy: 0.8847\n",
      "Epoch 30/100\n",
      "255/255 - 0s - loss: 0.1671 - accuracy: 0.9363 - val_loss: 0.1335 - val_accuracy: 0.9508\n",
      "Epoch 31/100\n",
      "255/255 - 1s - loss: 0.1291 - accuracy: 0.9528 - val_loss: 0.1657 - val_accuracy: 0.9348\n",
      "Epoch 32/100\n",
      "255/255 - 1s - loss: 0.1769 - accuracy: 0.9383 - val_loss: 0.2071 - val_accuracy: 0.9193\n",
      "Epoch 33/100\n",
      "255/255 - 0s - loss: 0.1137 - accuracy: 0.9556 - val_loss: 0.1356 - val_accuracy: 0.9484\n",
      "Epoch 34/100\n",
      "255/255 - 0s - loss: 0.1194 - accuracy: 0.9533 - val_loss: 0.1758 - val_accuracy: 0.9350\n",
      "Epoch 35/100\n",
      "255/255 - 0s - loss: 0.1315 - accuracy: 0.9483 - val_loss: 0.1138 - val_accuracy: 0.9564\n",
      "Epoch 36/100\n",
      "255/255 - 0s - loss: 0.1019 - accuracy: 0.9605 - val_loss: 0.1083 - val_accuracy: 0.9595\n",
      "Epoch 37/100\n",
      "255/255 - 0s - loss: 0.1038 - accuracy: 0.9609 - val_loss: 0.1381 - val_accuracy: 0.9473\n",
      "Epoch 38/100\n",
      "255/255 - 0s - loss: 0.1003 - accuracy: 0.9625 - val_loss: 0.1639 - val_accuracy: 0.9370\n",
      "Epoch 39/100\n",
      "255/255 - 0s - loss: 0.1064 - accuracy: 0.9586 - val_loss: 0.1202 - val_accuracy: 0.9564\n",
      "Epoch 40/100\n",
      "255/255 - 0s - loss: 0.1315 - accuracy: 0.9507 - val_loss: 0.1077 - val_accuracy: 0.9577\n",
      "Epoch 41/100\n",
      "255/255 - 0s - loss: 0.0918 - accuracy: 0.9649 - val_loss: 0.1593 - val_accuracy: 0.9407\n",
      "Epoch 42/100\n",
      "255/255 - 0s - loss: 0.2379 - accuracy: 0.9310 - val_loss: 0.1178 - val_accuracy: 0.9584\n",
      "Epoch 43/100\n",
      "255/255 - 0s - loss: 0.0954 - accuracy: 0.9660 - val_loss: 0.1081 - val_accuracy: 0.9603\n",
      "Epoch 44/100\n",
      "255/255 - 0s - loss: 0.0916 - accuracy: 0.9659 - val_loss: 0.0949 - val_accuracy: 0.9636\n",
      "Epoch 45/100\n",
      "255/255 - 0s - loss: 0.1011 - accuracy: 0.9606 - val_loss: 0.1021 - val_accuracy: 0.9605\n",
      "Epoch 46/100\n",
      "255/255 - 0s - loss: 0.1229 - accuracy: 0.9535 - val_loss: 0.1034 - val_accuracy: 0.9628\n",
      "Epoch 47/100\n",
      "255/255 - 0s - loss: 0.0834 - accuracy: 0.9692 - val_loss: 0.1013 - val_accuracy: 0.9616\n",
      "Epoch 48/100\n",
      "255/255 - 0s - loss: 0.0964 - accuracy: 0.9636 - val_loss: 0.1247 - val_accuracy: 0.9550\n",
      "Epoch 49/100\n",
      "255/255 - 0s - loss: 0.1203 - accuracy: 0.9573 - val_loss: 0.0999 - val_accuracy: 0.9606\n",
      "Epoch 50/100\n",
      "255/255 - 0s - loss: 0.0856 - accuracy: 0.9685 - val_loss: 0.0947 - val_accuracy: 0.9632\n",
      "Epoch 51/100\n",
      "255/255 - 0s - loss: 0.1201 - accuracy: 0.9546 - val_loss: 0.2127 - val_accuracy: 0.9217\n",
      "Epoch 52/100\n",
      "255/255 - 0s - loss: 0.0861 - accuracy: 0.9662 - val_loss: 0.0973 - val_accuracy: 0.9616\n",
      "Epoch 53/100\n",
      "255/255 - 0s - loss: 0.0729 - accuracy: 0.9719 - val_loss: 0.1094 - val_accuracy: 0.9568\n",
      "Epoch 54/100\n",
      "255/255 - 0s - loss: 0.0757 - accuracy: 0.9721 - val_loss: 0.0997 - val_accuracy: 0.9625\n",
      "Epoch 55/100\n",
      "255/255 - 0s - loss: 0.0824 - accuracy: 0.9691 - val_loss: 0.1143 - val_accuracy: 0.9566\n",
      "Epoch 56/100\n",
      "255/255 - 0s - loss: 0.0754 - accuracy: 0.9709 - val_loss: 0.0916 - val_accuracy: 0.9671\n",
      "Epoch 57/100\n",
      "255/255 - 0s - loss: 0.0843 - accuracy: 0.9679 - val_loss: 0.1073 - val_accuracy: 0.9590\n",
      "Epoch 58/100\n",
      "255/255 - 0s - loss: 0.0951 - accuracy: 0.9635 - val_loss: 0.1452 - val_accuracy: 0.9453\n",
      "Epoch 59/100\n",
      "255/255 - 0s - loss: 0.1182 - accuracy: 0.9559 - val_loss: 0.0884 - val_accuracy: 0.9678\n",
      "Epoch 60/100\n",
      "255/255 - 0s - loss: 0.0680 - accuracy: 0.9763 - val_loss: 0.0834 - val_accuracy: 0.9680\n",
      "Epoch 61/100\n",
      "255/255 - 0s - loss: 0.0665 - accuracy: 0.9762 - val_loss: 0.1026 - val_accuracy: 0.9641\n",
      "Epoch 62/100\n",
      "255/255 - 0s - loss: 0.0944 - accuracy: 0.9659 - val_loss: 0.0937 - val_accuracy: 0.9674\n",
      "Epoch 63/100\n",
      "255/255 - 0s - loss: 0.0604 - accuracy: 0.9780 - val_loss: 0.0828 - val_accuracy: 0.9694\n",
      "Epoch 64/100\n",
      "255/255 - 0s - loss: 0.0626 - accuracy: 0.9759 - val_loss: 0.0843 - val_accuracy: 0.9680\n",
      "Epoch 65/100\n",
      "255/255 - 0s - loss: 0.1380 - accuracy: 0.9522 - val_loss: 0.2252 - val_accuracy: 0.9233\n",
      "Epoch 66/100\n",
      "255/255 - 0s - loss: 0.0738 - accuracy: 0.9727 - val_loss: 0.0869 - val_accuracy: 0.9674\n",
      "Epoch 67/100\n",
      "255/255 - 0s - loss: 0.0569 - accuracy: 0.9805 - val_loss: 0.1506 - val_accuracy: 0.9420\n",
      "Epoch 68/100\n",
      "255/255 - 0s - loss: 0.0606 - accuracy: 0.9773 - val_loss: 0.0727 - val_accuracy: 0.9740\n",
      "Epoch 69/100\n",
      "255/255 - 0s - loss: 0.0637 - accuracy: 0.9753 - val_loss: 0.0911 - val_accuracy: 0.9667\n",
      "Epoch 70/100\n",
      "255/255 - 0s - loss: 0.1271 - accuracy: 0.9610 - val_loss: 0.0726 - val_accuracy: 0.9758\n",
      "Epoch 71/100\n",
      "255/255 - 0s - loss: 0.0575 - accuracy: 0.9796 - val_loss: 0.0669 - val_accuracy: 0.9757\n",
      "Epoch 72/100\n",
      "255/255 - 0s - loss: 0.0576 - accuracy: 0.9794 - val_loss: 0.0760 - val_accuracy: 0.9740\n",
      "Epoch 73/100\n",
      "255/255 - 1s - loss: 0.0829 - accuracy: 0.9725 - val_loss: 0.1959 - val_accuracy: 0.9207\n",
      "Epoch 74/100\n",
      "255/255 - 1s - loss: 0.0675 - accuracy: 0.9746 - val_loss: 0.0647 - val_accuracy: 0.9758\n",
      "Epoch 75/100\n",
      "255/255 - 1s - loss: 0.0589 - accuracy: 0.9770 - val_loss: 0.0853 - val_accuracy: 0.9685\n",
      "Epoch 76/100\n",
      "255/255 - 0s - loss: 0.0512 - accuracy: 0.9801 - val_loss: 0.0683 - val_accuracy: 0.9736\n",
      "Epoch 77/100\n",
      "255/255 - 1s - loss: 0.0560 - accuracy: 0.9792 - val_loss: 0.0589 - val_accuracy: 0.9764\n",
      "Epoch 78/100\n",
      "255/255 - 0s - loss: 0.0573 - accuracy: 0.9804 - val_loss: 0.0820 - val_accuracy: 0.9687\n",
      "Epoch 79/100\n",
      "255/255 - 0s - loss: 0.0519 - accuracy: 0.9816 - val_loss: 0.4902 - val_accuracy: 0.8384\n",
      "Epoch 80/100\n",
      "255/255 - 0s - loss: 0.0987 - accuracy: 0.9662 - val_loss: 0.0715 - val_accuracy: 0.9749\n",
      "Epoch 81/100\n",
      "255/255 - 0s - loss: 0.0496 - accuracy: 0.9815 - val_loss: 0.0800 - val_accuracy: 0.9724\n"
     ]
    },
    {
     "name": "stdout",
     "output_type": "stream",
     "text": [
      "Epoch 82/100\n",
      "255/255 - 0s - loss: 0.0384 - accuracy: 0.9863 - val_loss: 0.0626 - val_accuracy: 0.9791\n",
      "Epoch 83/100\n",
      "255/255 - 0s - loss: 0.0592 - accuracy: 0.9771 - val_loss: 0.1300 - val_accuracy: 0.9550\n",
      "Epoch 84/100\n",
      "255/255 - 0s - loss: 0.0709 - accuracy: 0.9772 - val_loss: 0.0561 - val_accuracy: 0.9824\n",
      "Epoch 85/100\n",
      "255/255 - 0s - loss: 0.0416 - accuracy: 0.9862 - val_loss: 0.0633 - val_accuracy: 0.9793\n",
      "Epoch 86/100\n",
      "255/255 - 0s - loss: 0.0361 - accuracy: 0.9872 - val_loss: 0.0605 - val_accuracy: 0.9773\n",
      "Epoch 87/100\n",
      "255/255 - 0s - loss: 0.1488 - accuracy: 0.9531 - val_loss: 0.0715 - val_accuracy: 0.9800\n",
      "Epoch 88/100\n",
      "255/255 - 0s - loss: 0.0419 - accuracy: 0.9871 - val_loss: 0.0747 - val_accuracy: 0.9771\n",
      "Epoch 89/100\n",
      "255/255 - 0s - loss: 0.0418 - accuracy: 0.9852 - val_loss: 0.0532 - val_accuracy: 0.9813\n",
      "Epoch 90/100\n",
      "255/255 - 0s - loss: 0.0352 - accuracy: 0.9887 - val_loss: 0.0514 - val_accuracy: 0.9810\n",
      "Epoch 91/100\n",
      "255/255 - 0s - loss: 0.1035 - accuracy: 0.9683 - val_loss: 0.1856 - val_accuracy: 0.9282\n",
      "Epoch 92/100\n",
      "255/255 - 0s - loss: 0.0488 - accuracy: 0.9849 - val_loss: 0.0495 - val_accuracy: 0.9830\n",
      "Epoch 93/100\n",
      "255/255 - 0s - loss: 0.0313 - accuracy: 0.9896 - val_loss: 0.0595 - val_accuracy: 0.9802\n",
      "Epoch 94/100\n",
      "255/255 - 0s - loss: 0.0279 - accuracy: 0.9912 - val_loss: 0.0486 - val_accuracy: 0.9824\n",
      "Epoch 95/100\n",
      "255/255 - 0s - loss: 0.0475 - accuracy: 0.9833 - val_loss: 0.0521 - val_accuracy: 0.9806\n",
      "Epoch 96/100\n",
      "255/255 - 0s - loss: 0.0426 - accuracy: 0.9842 - val_loss: 0.0349 - val_accuracy: 0.9868\n",
      "Epoch 97/100\n",
      "255/255 - 0s - loss: 0.0237 - accuracy: 0.9927 - val_loss: 0.0388 - val_accuracy: 0.9861\n",
      "Epoch 98/100\n",
      "255/255 - 0s - loss: 0.1425 - accuracy: 0.9652 - val_loss: 0.0464 - val_accuracy: 0.9896\n",
      "Epoch 99/100\n",
      "255/255 - 0s - loss: 0.0304 - accuracy: 0.9914 - val_loss: 0.0375 - val_accuracy: 0.9881\n",
      "Epoch 100/100\n",
      "255/255 - 0s - loss: 0.0269 - accuracy: 0.9921 - val_loss: 0.1456 - val_accuracy: 0.9462\n"
     ]
    }
   ],
   "source": [
    "# training the Neural Network and saving metrics every 100 epochs\n",
    "history = model.fit(X_train, y_train,\n",
    "          batch_size=50, epochs=100,\n",
    "          verbose=2,\n",
    "          validation_data=(X_test, y_test))"
   ]
  },
  {
   "cell_type": "code",
   "execution_count": 85,
   "metadata": {},
   "outputs": [
    {
     "data": {
      "image/png": "[encoded data removed]",
      "text/plain": [
       "<Figure size 432x288 with 2 Axes>"
      ]
     },
     "metadata": {
      "needs_background": "light"
     },
     "output_type": "display_data"
    }
   ],
   "source": [
    "import matplotlib.pyplot as plt\n",
    "# plotting the metrics\n",
    "fig = plt.figure()\n",
    "plt.subplot(2,1,1)\n",
    "plt.plot(history.history['accuracy'])\n",
    "plt.plot(history.history['val_accuracy'])\n",
    "plt.title('model accuracy')\n",
    "plt.ylabel('accuracy')\n",
    "plt.xlabel('epoch')\n",
    "plt.legend(['train', 'test'], loc='lower right')\n",
    "\n",
    "plt.subplot(2,1,2)\n",
    "plt.plot(history.history['loss'])\n",
    "plt.plot(history.history['val_loss'])\n",
    "plt.title('model loss')\n",
    "plt.ylabel('loss')\n",
    "plt.xlabel('epoch')\n",
    "plt.legend(['train', 'test'], loc='upper right')\n",
    "\n",
    "plt.tight_layout()"
   ]
  },
  {
   "cell_type": "markdown",
   "metadata": {},
   "source": [
    "## Conclusion for Work Rate\n",
    "\n",
    "The Neural Network has the best accuracy and a low loss for the work rate predictions. Below I will add both predicted models to the new data set and see the players with highest overall and work rate scores to be the players that are the highest in demand. "
   ]
  },
  {
   "cell_type": "markdown",
   "metadata": {},
   "source": [
    "# Models For Dataset\n",
    "\n",
    "**HAD TO RESTART RANDOM FOREST REGRESSION FOR NEW DATAFRAME**"
   ]
  },
  {
   "cell_type": "code",
   "execution_count": 118,
   "metadata": {},
   "outputs": [
    {
     "data": {
      "text/html": [
       "<div>\n",
       "<style scoped>\n",
       "    .dataframe tbody tr th:only-of-type {\n",
       "        vertical-align: middle;\n",
       "    }\n",
       "\n",
       "    .dataframe tbody tr th {\n",
       "        vertical-align: top;\n",
       "    }\n",
       "\n",
       "    .dataframe thead th {\n",
       "        text-align: right;\n",
       "    }\n",
       "</style>\n",
       "<table border=\"1\" class=\"dataframe\">\n",
       "  <thead>\n",
       "    <tr style=\"text-align: right;\">\n",
       "      <th></th>\n",
       "      <th>Unnamed: 0</th>\n",
       "      <th>Name</th>\n",
       "      <th>Age</th>\n",
       "      <th>Nationality</th>\n",
       "      <th>Overall</th>\n",
       "      <th>Potential</th>\n",
       "      <th>Club</th>\n",
       "      <th>Special</th>\n",
       "      <th>Preferred Foot</th>\n",
       "      <th>International Reputation</th>\n",
       "      <th>...</th>\n",
       "      <th>GKDiving</th>\n",
       "      <th>GKHandling</th>\n",
       "      <th>GKKicking</th>\n",
       "      <th>GKPositioning</th>\n",
       "      <th>GKReflexes</th>\n",
       "      <th>Release Clause</th>\n",
       "      <th>Height in Cms</th>\n",
       "      <th>Weight in Pounds</th>\n",
       "      <th>Value in Pounds</th>\n",
       "      <th>Wage in Pounds</th>\n",
       "    </tr>\n",
       "  </thead>\n",
       "  <tbody>\n",
       "    <tr>\n",
       "      <th>0</th>\n",
       "      <td>0</td>\n",
       "      <td>L. Messi</td>\n",
       "      <td>31</td>\n",
       "      <td>Argentina</td>\n",
       "      <td>94</td>\n",
       "      <td>94</td>\n",
       "      <td>FC Barcelona</td>\n",
       "      <td>2202</td>\n",
       "      <td>Left</td>\n",
       "      <td>5.0</td>\n",
       "      <td>...</td>\n",
       "      <td>6.0</td>\n",
       "      <td>11.0</td>\n",
       "      <td>15.0</td>\n",
       "      <td>14.0</td>\n",
       "      <td>8.0</td>\n",
       "      <td>€226.5M</td>\n",
       "      <td>170.18</td>\n",
       "      <td>159</td>\n",
       "      <td>110500000.0</td>\n",
       "      <td>565000.0</td>\n",
       "    </tr>\n",
       "    <tr>\n",
       "      <th>1</th>\n",
       "      <td>1</td>\n",
       "      <td>Cristiano Ronaldo</td>\n",
       "      <td>33</td>\n",
       "      <td>Portugal</td>\n",
       "      <td>94</td>\n",
       "      <td>94</td>\n",
       "      <td>Juventus</td>\n",
       "      <td>2228</td>\n",
       "      <td>Right</td>\n",
       "      <td>5.0</td>\n",
       "      <td>...</td>\n",
       "      <td>7.0</td>\n",
       "      <td>11.0</td>\n",
       "      <td>15.0</td>\n",
       "      <td>14.0</td>\n",
       "      <td>11.0</td>\n",
       "      <td>€127.1M</td>\n",
       "      <td>187.96</td>\n",
       "      <td>183</td>\n",
       "      <td>77000000.0</td>\n",
       "      <td>405000.0</td>\n",
       "    </tr>\n",
       "    <tr>\n",
       "      <th>2</th>\n",
       "      <td>2</td>\n",
       "      <td>Neymar Jr</td>\n",
       "      <td>26</td>\n",
       "      <td>Brazil</td>\n",
       "      <td>92</td>\n",
       "      <td>93</td>\n",
       "      <td>Paris Saint-Germain</td>\n",
       "      <td>2143</td>\n",
       "      <td>Right</td>\n",
       "      <td>5.0</td>\n",
       "      <td>...</td>\n",
       "      <td>9.0</td>\n",
       "      <td>9.0</td>\n",
       "      <td>15.0</td>\n",
       "      <td>15.0</td>\n",
       "      <td>11.0</td>\n",
       "      <td>€228.1M</td>\n",
       "      <td>175.26</td>\n",
       "      <td>150</td>\n",
       "      <td>118500000.0</td>\n",
       "      <td>290000.0</td>\n",
       "    </tr>\n",
       "    <tr>\n",
       "      <th>3</th>\n",
       "      <td>3</td>\n",
       "      <td>De Gea</td>\n",
       "      <td>27</td>\n",
       "      <td>Spain</td>\n",
       "      <td>91</td>\n",
       "      <td>93</td>\n",
       "      <td>Manchester United</td>\n",
       "      <td>1471</td>\n",
       "      <td>Right</td>\n",
       "      <td>4.0</td>\n",
       "      <td>...</td>\n",
       "      <td>90.0</td>\n",
       "      <td>85.0</td>\n",
       "      <td>87.0</td>\n",
       "      <td>88.0</td>\n",
       "      <td>94.0</td>\n",
       "      <td>€138.6M</td>\n",
       "      <td>193.04</td>\n",
       "      <td>168</td>\n",
       "      <td>72000000.0</td>\n",
       "      <td>260000.0</td>\n",
       "    </tr>\n",
       "    <tr>\n",
       "      <th>4</th>\n",
       "      <td>4</td>\n",
       "      <td>K. De Bruyne</td>\n",
       "      <td>27</td>\n",
       "      <td>Belgium</td>\n",
       "      <td>91</td>\n",
       "      <td>92</td>\n",
       "      <td>Manchester City</td>\n",
       "      <td>2281</td>\n",
       "      <td>Right</td>\n",
       "      <td>4.0</td>\n",
       "      <td>...</td>\n",
       "      <td>15.0</td>\n",
       "      <td>13.0</td>\n",
       "      <td>5.0</td>\n",
       "      <td>10.0</td>\n",
       "      <td>13.0</td>\n",
       "      <td>€196.4M</td>\n",
       "      <td>180.34</td>\n",
       "      <td>154</td>\n",
       "      <td>102000000.0</td>\n",
       "      <td>355000.0</td>\n",
       "    </tr>\n",
       "  </tbody>\n",
       "</table>\n",
       "<p>5 rows × 85 columns</p>\n",
       "</div>"
      ],
      "text/plain": [
       "   Unnamed: 0               Name  Age Nationality  Overall  Potential  \\\n",
       "0           0           L. Messi   31   Argentina       94         94   \n",
       "1           1  Cristiano Ronaldo   33    Portugal       94         94   \n",
       "2           2          Neymar Jr   26      Brazil       92         93   \n",
       "3           3             De Gea   27       Spain       91         93   \n",
       "4           4       K. De Bruyne   27     Belgium       91         92   \n",
       "\n",
       "                  Club  Special Preferred Foot  International Reputation  ...  \\\n",
       "0         FC Barcelona     2202           Left                       5.0  ...   \n",
       "1             Juventus     2228          Right                       5.0  ...   \n",
       "2  Paris Saint-Germain     2143          Right                       5.0  ...   \n",
       "3    Manchester United     1471          Right                       4.0  ...   \n",
       "4      Manchester City     2281          Right                       4.0  ...   \n",
       "\n",
       "   GKDiving  GKHandling GKKicking GKPositioning GKReflexes Release Clause  \\\n",
       "0       6.0        11.0      15.0          14.0        8.0        €226.5M   \n",
       "1       7.0        11.0      15.0          14.0       11.0        €127.1M   \n",
       "2       9.0         9.0      15.0          15.0       11.0        €228.1M   \n",
       "3      90.0        85.0      87.0          88.0       94.0        €138.6M   \n",
       "4      15.0        13.0       5.0          10.0       13.0        €196.4M   \n",
       "\n",
       "   Height in Cms Weight in Pounds Value in Pounds Wage in Pounds  \n",
       "0         170.18              159     110500000.0       565000.0  \n",
       "1         187.96              183      77000000.0       405000.0  \n",
       "2         175.26              150     118500000.0       290000.0  \n",
       "3         193.04              168      72000000.0       260000.0  \n",
       "4         180.34              154     102000000.0       355000.0  \n",
       "\n",
       "[5 rows x 85 columns]"
      ]
     },
     "execution_count": 118,
     "metadata": {},
     "output_type": "execute_result"
    }
   ],
   "source": [
    "# Pandas is used for data manipulation\n",
    "import pandas as pd\n",
    "# Read in data and display first 5 rows\n",
    "df = pd.read_csv('clean.csv')\n",
    "df.head()"
   ]
  },
  {
   "cell_type": "code",
   "execution_count": 119,
   "metadata": {},
   "outputs": [
    {
     "name": "stdout",
     "output_type": "stream",
     "text": [
      "Name and type of varialbes are: \n",
      "\n",
      "Unnamed: 0            int64\n",
      "Name                 object\n",
      "Age                   int64\n",
      "Nationality          object\n",
      "Overall               int64\n",
      "                     ...   \n",
      "Release Clause       object\n",
      "Height in Cms       float64\n",
      "Weight in Pounds      int64\n",
      "Value in Pounds     float64\n",
      "Wage in Pounds      float64\n",
      "Length: 85, dtype: object\n",
      "\n",
      "The number of variables is 85\n",
      "...The number of categorical variables is 12\n",
      "...The number of continuous variable is 73\n",
      "List of continuous predictor:\n",
      "['Overall', 'Potential', 'Special', 'International Reputation', 'Weak Foot', 'Skill Moves', 'Jersey Number', 'LS', 'ST', 'RS', 'LW', 'LF', 'CF', 'RF', 'RW', 'LAM', 'CAM', 'RAM', 'LM', 'LCM', 'CM', 'RCM', 'RM', 'LWB', 'LDM', 'CDM', 'RDM', 'RWB', 'LB', 'LCB', 'CB', 'RCB', 'RB', 'Crossing', 'Finishing', 'HeadingAccuracy', 'ShortPassing', 'Volleys', 'Dribbling', 'Curve', 'FKAccuracy', 'LongPassing', 'BallControl', 'Acceleration', 'SprintSpeed', 'Agility', 'Reactions', 'Balance', 'ShotPower', 'Jumping', 'Stamina', 'Strength', 'LongShots', 'Aggression', 'Interceptions', 'Positioning', 'Vision', 'Penalties', 'Composure', 'Marking', 'StandingTackle', 'SlidingTackle', 'GKDiving', 'GKHandling', 'GKKicking', 'GKPositioning', 'GKReflexes', 'Height in Cms', 'Weight in Pounds', 'Value in Pounds', 'Wage in Pounds']\n",
      "List of categorical predictor:\n",
      "['Nationality', 'Club', 'Preferred Foot', 'Work Rate', 'Body Type', 'Real Face', 'Position', 'Joined', 'Loaned From', 'Contract Valid Until', 'Release Clause']\n"
     ]
    }
   ],
   "source": [
    "# Check type of predictor feature\n",
    "print('Name and type of varialbes are: \\n')\n",
    "print(df.dtypes)\n",
    "print('\\nThe number of variables is %d' %len(df.columns))\n",
    "print('...The number of categorical variables is %d' %(df.shape[1] - sum(df.dtypes=='float64') - sum(df.dtypes=='int64'))) # <- Count object type (Categorical variable) \n",
    "print('...The number of continuous variable is %d' %(sum(df.dtypes=='float64') + sum(df.dtypes=='int64'))) # <- Count float type (Continuos variable)\n",
    "\n",
    "list_predictor_continuous = []\n",
    "list_predictor_categorical = []\n",
    "\n",
    "for name in df.columns[3:]:\n",
    "    if df[name].dtype == 'float64' or df[name].dtype == 'int64':\n",
    "        list_predictor_continuous.append(name)\n",
    "    else:\n",
    "        list_predictor_categorical.append(name)\n",
    "\n",
    "print('List of continuous predictor:')\n",
    "print(list_predictor_continuous)\n",
    "print('List of categorical predictor:')\n",
    "print(list_predictor_categorical)"
   ]
  },
  {
   "cell_type": "code",
   "execution_count": 120,
   "metadata": {},
   "outputs": [],
   "source": [
    "cat_features = ['Nationality', 'Club', 'Work Rate','Real Face']\n",
    "features = ['ShortPassing','Dribbling','BallControl', 'Reactions','Interceptions', 'Positioning', 'Composure', 'Marking', 'StandingTackle', 'SlidingTackle']\n",
    "\n",
    "from sklearn.preprocessing import OrdinalEncoder, LabelEncoder, MinMaxScaler, StandardScaler, OneHotEncoder\n",
    "import numpy as np\n",
    "# Convert pd.serise to np.array\n",
    "Rredictor_Categorical = df.loc[:,cat_features].values\n",
    "Rredictor_Continuous = df.loc[:,features].values\n",
    "Response_overall = df.loc[:,'Overall'].values \n",
    "\n",
    "# Integer Encoding for Categorical variable\n",
    "enc_pred = OrdinalEncoder() # <- Keep this instance for inverse transform after prediction\n",
    "Rredictor_Categorical_en = enc_pred.fit_transform(Rredictor_Categorical)\n",
    "\n",
    "# MinMax Transform for Continuous variable\n",
    "scaler_pred = MinMaxScaler() # <- Keep this instance for inverse transform after prediction\n",
    "Rredictor = np.concatenate([Rredictor_Continuous, Rredictor_Categorical_en], axis = 1) # <- Include encoded categorical to make the same range\n",
    "Rredictor_scaled = scaler_pred.fit_transform(Rredictor)\n",
    "scaler_res = MinMaxScaler()\n",
    "Response_overall_scaled = scaler_res.fit_transform(Response_overall.reshape(-1,1))"
   ]
  },
  {
   "cell_type": "code",
   "execution_count": 121,
   "metadata": {},
   "outputs": [],
   "source": [
    "from sklearn.model_selection import train_test_split\n",
    "X_train, X_test, y_train, y_test = train_test_split(Rredictor, Response_overall_scaled, test_size=0.30)"
   ]
  },
  {
   "cell_type": "code",
   "execution_count": 122,
   "metadata": {},
   "outputs": [
    {
     "name": "stderr",
     "output_type": "stream",
     "text": [
      "<ipython-input-122-ae53d479a1e1>:3: DataConversionWarning: A column-vector y was passed when a 1d array was expected. Please change the shape of y to (n_samples,), for example using ravel().\n",
      "  random.fit(X_train, y_train)\n"
     ]
    },
    {
     "data": {
      "text/plain": [
       "RandomForestRegressor()"
      ]
     },
     "execution_count": 122,
     "metadata": {},
     "output_type": "execute_result"
    }
   ],
   "source": [
    "from sklearn.ensemble import RandomForestRegressor\n",
    "random = RandomForestRegressor()\n",
    "random.fit(X_train, y_train)"
   ]
  },
  {
   "cell_type": "code",
   "execution_count": 123,
   "metadata": {},
   "outputs": [],
   "source": [
    "X = Rredictor"
   ]
  },
  {
   "cell_type": "code",
   "execution_count": 124,
   "metadata": {},
   "outputs": [],
   "source": [
    "y_pred_regfinal = random.predict(X)"
   ]
  },
  {
   "cell_type": "code",
   "execution_count": 125,
   "metadata": {},
   "outputs": [],
   "source": [
    "y_pred_rffinal = pd.DataFrame(y_pred_regfinal)"
   ]
  },
  {
   "cell_type": "code",
   "execution_count": 126,
   "metadata": {},
   "outputs": [],
   "source": [
    "df['Overall Score'] = y_pred_rffinal * 100"
   ]
  },
  {
   "cell_type": "code",
   "execution_count": 127,
   "metadata": {},
   "outputs": [],
   "source": [
    "df = df.drop(['Overall'], axis=1)"
   ]
  },
  {
   "cell_type": "code",
   "execution_count": 128,
   "metadata": {},
   "outputs": [
    {
     "data": {
      "text/html": [
       "<div>\n",
       "<style scoped>\n",
       "    .dataframe tbody tr th:only-of-type {\n",
       "        vertical-align: middle;\n",
       "    }\n",
       "\n",
       "    .dataframe tbody tr th {\n",
       "        vertical-align: top;\n",
       "    }\n",
       "\n",
       "    .dataframe thead th {\n",
       "        text-align: right;\n",
       "    }\n",
       "</style>\n",
       "<table border=\"1\" class=\"dataframe\">\n",
       "  <thead>\n",
       "    <tr style=\"text-align: right;\">\n",
       "      <th></th>\n",
       "      <th>Unnamed: 0</th>\n",
       "      <th>Name</th>\n",
       "      <th>Age</th>\n",
       "      <th>Nationality</th>\n",
       "      <th>Potential</th>\n",
       "      <th>Club</th>\n",
       "      <th>Special</th>\n",
       "      <th>Preferred Foot</th>\n",
       "      <th>International Reputation</th>\n",
       "      <th>Weak Foot</th>\n",
       "      <th>...</th>\n",
       "      <th>GKHandling</th>\n",
       "      <th>GKKicking</th>\n",
       "      <th>GKPositioning</th>\n",
       "      <th>GKReflexes</th>\n",
       "      <th>Release Clause</th>\n",
       "      <th>Height in Cms</th>\n",
       "      <th>Weight in Pounds</th>\n",
       "      <th>Value in Pounds</th>\n",
       "      <th>Wage in Pounds</th>\n",
       "      <th>Overall Score</th>\n",
       "    </tr>\n",
       "  </thead>\n",
       "  <tbody>\n",
       "    <tr>\n",
       "      <th>0</th>\n",
       "      <td>0</td>\n",
       "      <td>L. Messi</td>\n",
       "      <td>31</td>\n",
       "      <td>Argentina</td>\n",
       "      <td>94</td>\n",
       "      <td>FC Barcelona</td>\n",
       "      <td>2202</td>\n",
       "      <td>Left</td>\n",
       "      <td>5.0</td>\n",
       "      <td>4.0</td>\n",
       "      <td>...</td>\n",
       "      <td>11.0</td>\n",
       "      <td>15.0</td>\n",
       "      <td>14.0</td>\n",
       "      <td>8.0</td>\n",
       "      <td>€226.5M</td>\n",
       "      <td>170.18</td>\n",
       "      <td>159</td>\n",
       "      <td>110500000.0</td>\n",
       "      <td>565000.0</td>\n",
       "      <td>96.875000</td>\n",
       "    </tr>\n",
       "    <tr>\n",
       "      <th>1</th>\n",
       "      <td>1</td>\n",
       "      <td>Cristiano Ronaldo</td>\n",
       "      <td>33</td>\n",
       "      <td>Portugal</td>\n",
       "      <td>94</td>\n",
       "      <td>Juventus</td>\n",
       "      <td>2228</td>\n",
       "      <td>Right</td>\n",
       "      <td>5.0</td>\n",
       "      <td>4.0</td>\n",
       "      <td>...</td>\n",
       "      <td>11.0</td>\n",
       "      <td>15.0</td>\n",
       "      <td>14.0</td>\n",
       "      <td>11.0</td>\n",
       "      <td>€127.1M</td>\n",
       "      <td>187.96</td>\n",
       "      <td>183</td>\n",
       "      <td>77000000.0</td>\n",
       "      <td>405000.0</td>\n",
       "      <td>93.125000</td>\n",
       "    </tr>\n",
       "    <tr>\n",
       "      <th>2</th>\n",
       "      <td>2</td>\n",
       "      <td>Neymar Jr</td>\n",
       "      <td>26</td>\n",
       "      <td>Brazil</td>\n",
       "      <td>93</td>\n",
       "      <td>Paris Saint-Germain</td>\n",
       "      <td>2143</td>\n",
       "      <td>Right</td>\n",
       "      <td>5.0</td>\n",
       "      <td>5.0</td>\n",
       "      <td>...</td>\n",
       "      <td>9.0</td>\n",
       "      <td>15.0</td>\n",
       "      <td>15.0</td>\n",
       "      <td>11.0</td>\n",
       "      <td>€228.1M</td>\n",
       "      <td>175.26</td>\n",
       "      <td>150</td>\n",
       "      <td>118500000.0</td>\n",
       "      <td>290000.0</td>\n",
       "      <td>92.625000</td>\n",
       "    </tr>\n",
       "    <tr>\n",
       "      <th>3</th>\n",
       "      <td>3</td>\n",
       "      <td>De Gea</td>\n",
       "      <td>27</td>\n",
       "      <td>Spain</td>\n",
       "      <td>93</td>\n",
       "      <td>Manchester United</td>\n",
       "      <td>1471</td>\n",
       "      <td>Right</td>\n",
       "      <td>4.0</td>\n",
       "      <td>3.0</td>\n",
       "      <td>...</td>\n",
       "      <td>85.0</td>\n",
       "      <td>87.0</td>\n",
       "      <td>88.0</td>\n",
       "      <td>94.0</td>\n",
       "      <td>€138.6M</td>\n",
       "      <td>193.04</td>\n",
       "      <td>168</td>\n",
       "      <td>72000000.0</td>\n",
       "      <td>260000.0</td>\n",
       "      <td>86.166667</td>\n",
       "    </tr>\n",
       "    <tr>\n",
       "      <th>4</th>\n",
       "      <td>4</td>\n",
       "      <td>K. De Bruyne</td>\n",
       "      <td>27</td>\n",
       "      <td>Belgium</td>\n",
       "      <td>92</td>\n",
       "      <td>Manchester City</td>\n",
       "      <td>2281</td>\n",
       "      <td>Right</td>\n",
       "      <td>4.0</td>\n",
       "      <td>5.0</td>\n",
       "      <td>...</td>\n",
       "      <td>13.0</td>\n",
       "      <td>5.0</td>\n",
       "      <td>10.0</td>\n",
       "      <td>13.0</td>\n",
       "      <td>€196.4M</td>\n",
       "      <td>180.34</td>\n",
       "      <td>154</td>\n",
       "      <td>102000000.0</td>\n",
       "      <td>355000.0</td>\n",
       "      <td>92.354167</td>\n",
       "    </tr>\n",
       "  </tbody>\n",
       "</table>\n",
       "<p>5 rows × 85 columns</p>\n",
       "</div>"
      ],
      "text/plain": [
       "   Unnamed: 0               Name  Age Nationality  Potential  \\\n",
       "0           0           L. Messi   31   Argentina         94   \n",
       "1           1  Cristiano Ronaldo   33    Portugal         94   \n",
       "2           2          Neymar Jr   26      Brazil         93   \n",
       "3           3             De Gea   27       Spain         93   \n",
       "4           4       K. De Bruyne   27     Belgium         92   \n",
       "\n",
       "                  Club  Special Preferred Foot  International Reputation  \\\n",
       "0         FC Barcelona     2202           Left                       5.0   \n",
       "1             Juventus     2228          Right                       5.0   \n",
       "2  Paris Saint-Germain     2143          Right                       5.0   \n",
       "3    Manchester United     1471          Right                       4.0   \n",
       "4      Manchester City     2281          Right                       4.0   \n",
       "\n",
       "   Weak Foot  ...  GKHandling GKKicking GKPositioning GKReflexes  \\\n",
       "0        4.0  ...        11.0      15.0          14.0        8.0   \n",
       "1        4.0  ...        11.0      15.0          14.0       11.0   \n",
       "2        5.0  ...         9.0      15.0          15.0       11.0   \n",
       "3        3.0  ...        85.0      87.0          88.0       94.0   \n",
       "4        5.0  ...        13.0       5.0          10.0       13.0   \n",
       "\n",
       "  Release Clause  Height in Cms Weight in Pounds Value in Pounds  \\\n",
       "0        €226.5M         170.18              159     110500000.0   \n",
       "1        €127.1M         187.96              183      77000000.0   \n",
       "2        €228.1M         175.26              150     118500000.0   \n",
       "3        €138.6M         193.04              168      72000000.0   \n",
       "4        €196.4M         180.34              154     102000000.0   \n",
       "\n",
       "  Wage in Pounds  Overall Score  \n",
       "0       565000.0      96.875000  \n",
       "1       405000.0      93.125000  \n",
       "2       290000.0      92.625000  \n",
       "3       260000.0      86.166667  \n",
       "4       355000.0      92.354167  \n",
       "\n",
       "[5 rows x 85 columns]"
      ]
     },
     "execution_count": 128,
     "metadata": {},
     "output_type": "execute_result"
    }
   ],
   "source": [
    "df.head()"
   ]
  },
  {
   "cell_type": "markdown",
   "metadata": {},
   "source": [
    "**NEURAL NETWORK CLASSIFER DATASET**"
   ]
  },
  {
   "cell_type": "code",
   "execution_count": 129,
   "metadata": {},
   "outputs": [],
   "source": [
    "y_pred_NN = model.predict(X)"
   ]
  },
  {
   "cell_type": "code",
   "execution_count": 130,
   "metadata": {},
   "outputs": [],
   "source": [
    "y_pred_NN = enc_res.inverse_transform(y_pred_NN)"
   ]
  },
  {
   "cell_type": "code",
   "execution_count": 131,
   "metadata": {},
   "outputs": [],
   "source": [
    "df['Work Rate of Players'] = pd.DataFrame(y_pred_NN)"
   ]
  },
  {
   "cell_type": "code",
   "execution_count": 132,
   "metadata": {},
   "outputs": [],
   "source": [
    "df = df.drop(['Work Rate'], axis=1)"
   ]
  },
  {
   "cell_type": "code",
   "execution_count": 133,
   "metadata": {},
   "outputs": [
    {
     "data": {
      "text/html": [
       "<div>\n",
       "<style scoped>\n",
       "    .dataframe tbody tr th:only-of-type {\n",
       "        vertical-align: middle;\n",
       "    }\n",
       "\n",
       "    .dataframe tbody tr th {\n",
       "        vertical-align: top;\n",
       "    }\n",
       "\n",
       "    .dataframe thead th {\n",
       "        text-align: right;\n",
       "    }\n",
       "</style>\n",
       "<table border=\"1\" class=\"dataframe\">\n",
       "  <thead>\n",
       "    <tr style=\"text-align: right;\">\n",
       "      <th></th>\n",
       "      <th>Unnamed: 0</th>\n",
       "      <th>Name</th>\n",
       "      <th>Age</th>\n",
       "      <th>Nationality</th>\n",
       "      <th>Potential</th>\n",
       "      <th>Club</th>\n",
       "      <th>Special</th>\n",
       "      <th>Preferred Foot</th>\n",
       "      <th>International Reputation</th>\n",
       "      <th>Weak Foot</th>\n",
       "      <th>...</th>\n",
       "      <th>GKKicking</th>\n",
       "      <th>GKPositioning</th>\n",
       "      <th>GKReflexes</th>\n",
       "      <th>Release Clause</th>\n",
       "      <th>Height in Cms</th>\n",
       "      <th>Weight in Pounds</th>\n",
       "      <th>Value in Pounds</th>\n",
       "      <th>Wage in Pounds</th>\n",
       "      <th>Overall Score</th>\n",
       "      <th>Work Rate of Players</th>\n",
       "    </tr>\n",
       "  </thead>\n",
       "  <tbody>\n",
       "    <tr>\n",
       "      <th>0</th>\n",
       "      <td>0</td>\n",
       "      <td>L. Messi</td>\n",
       "      <td>31</td>\n",
       "      <td>Argentina</td>\n",
       "      <td>94</td>\n",
       "      <td>FC Barcelona</td>\n",
       "      <td>2202</td>\n",
       "      <td>Left</td>\n",
       "      <td>5.0</td>\n",
       "      <td>4.0</td>\n",
       "      <td>...</td>\n",
       "      <td>15.0</td>\n",
       "      <td>14.0</td>\n",
       "      <td>8.0</td>\n",
       "      <td>€226.5M</td>\n",
       "      <td>170.18</td>\n",
       "      <td>159</td>\n",
       "      <td>110500000.0</td>\n",
       "      <td>565000.0</td>\n",
       "      <td>96.875000</td>\n",
       "      <td>Medium/ High</td>\n",
       "    </tr>\n",
       "    <tr>\n",
       "      <th>1</th>\n",
       "      <td>1</td>\n",
       "      <td>Cristiano Ronaldo</td>\n",
       "      <td>33</td>\n",
       "      <td>Portugal</td>\n",
       "      <td>94</td>\n",
       "      <td>Juventus</td>\n",
       "      <td>2228</td>\n",
       "      <td>Right</td>\n",
       "      <td>5.0</td>\n",
       "      <td>4.0</td>\n",
       "      <td>...</td>\n",
       "      <td>15.0</td>\n",
       "      <td>14.0</td>\n",
       "      <td>11.0</td>\n",
       "      <td>€127.1M</td>\n",
       "      <td>187.96</td>\n",
       "      <td>183</td>\n",
       "      <td>77000000.0</td>\n",
       "      <td>405000.0</td>\n",
       "      <td>93.125000</td>\n",
       "      <td>High/ Low</td>\n",
       "    </tr>\n",
       "    <tr>\n",
       "      <th>2</th>\n",
       "      <td>2</td>\n",
       "      <td>Neymar Jr</td>\n",
       "      <td>26</td>\n",
       "      <td>Brazil</td>\n",
       "      <td>93</td>\n",
       "      <td>Paris Saint-Germain</td>\n",
       "      <td>2143</td>\n",
       "      <td>Right</td>\n",
       "      <td>5.0</td>\n",
       "      <td>5.0</td>\n",
       "      <td>...</td>\n",
       "      <td>15.0</td>\n",
       "      <td>15.0</td>\n",
       "      <td>11.0</td>\n",
       "      <td>€228.1M</td>\n",
       "      <td>175.26</td>\n",
       "      <td>150</td>\n",
       "      <td>118500000.0</td>\n",
       "      <td>290000.0</td>\n",
       "      <td>92.625000</td>\n",
       "      <td>High/ Medium</td>\n",
       "    </tr>\n",
       "    <tr>\n",
       "      <th>3</th>\n",
       "      <td>3</td>\n",
       "      <td>De Gea</td>\n",
       "      <td>27</td>\n",
       "      <td>Spain</td>\n",
       "      <td>93</td>\n",
       "      <td>Manchester United</td>\n",
       "      <td>1471</td>\n",
       "      <td>Right</td>\n",
       "      <td>4.0</td>\n",
       "      <td>3.0</td>\n",
       "      <td>...</td>\n",
       "      <td>87.0</td>\n",
       "      <td>88.0</td>\n",
       "      <td>94.0</td>\n",
       "      <td>€138.6M</td>\n",
       "      <td>193.04</td>\n",
       "      <td>168</td>\n",
       "      <td>72000000.0</td>\n",
       "      <td>260000.0</td>\n",
       "      <td>86.166667</td>\n",
       "      <td>Medium/ Medium</td>\n",
       "    </tr>\n",
       "    <tr>\n",
       "      <th>4</th>\n",
       "      <td>4</td>\n",
       "      <td>K. De Bruyne</td>\n",
       "      <td>27</td>\n",
       "      <td>Belgium</td>\n",
       "      <td>92</td>\n",
       "      <td>Manchester City</td>\n",
       "      <td>2281</td>\n",
       "      <td>Right</td>\n",
       "      <td>4.0</td>\n",
       "      <td>5.0</td>\n",
       "      <td>...</td>\n",
       "      <td>5.0</td>\n",
       "      <td>10.0</td>\n",
       "      <td>13.0</td>\n",
       "      <td>€196.4M</td>\n",
       "      <td>180.34</td>\n",
       "      <td>154</td>\n",
       "      <td>102000000.0</td>\n",
       "      <td>355000.0</td>\n",
       "      <td>92.354167</td>\n",
       "      <td>High/ High</td>\n",
       "    </tr>\n",
       "  </tbody>\n",
       "</table>\n",
       "<p>5 rows × 85 columns</p>\n",
       "</div>"
      ],
      "text/plain": [
       "   Unnamed: 0               Name  Age Nationality  Potential  \\\n",
       "0           0           L. Messi   31   Argentina         94   \n",
       "1           1  Cristiano Ronaldo   33    Portugal         94   \n",
       "2           2          Neymar Jr   26      Brazil         93   \n",
       "3           3             De Gea   27       Spain         93   \n",
       "4           4       K. De Bruyne   27     Belgium         92   \n",
       "\n",
       "                  Club  Special Preferred Foot  International Reputation  \\\n",
       "0         FC Barcelona     2202           Left                       5.0   \n",
       "1             Juventus     2228          Right                       5.0   \n",
       "2  Paris Saint-Germain     2143          Right                       5.0   \n",
       "3    Manchester United     1471          Right                       4.0   \n",
       "4      Manchester City     2281          Right                       4.0   \n",
       "\n",
       "   Weak Foot  ...  GKKicking GKPositioning GKReflexes Release Clause  \\\n",
       "0        4.0  ...       15.0          14.0        8.0        €226.5M   \n",
       "1        4.0  ...       15.0          14.0       11.0        €127.1M   \n",
       "2        5.0  ...       15.0          15.0       11.0        €228.1M   \n",
       "3        3.0  ...       87.0          88.0       94.0        €138.6M   \n",
       "4        5.0  ...        5.0          10.0       13.0        €196.4M   \n",
       "\n",
       "   Height in Cms Weight in Pounds Value in Pounds Wage in Pounds  \\\n",
       "0         170.18              159     110500000.0       565000.0   \n",
       "1         187.96              183      77000000.0       405000.0   \n",
       "2         175.26              150     118500000.0       290000.0   \n",
       "3         193.04              168      72000000.0       260000.0   \n",
       "4         180.34              154     102000000.0       355000.0   \n",
       "\n",
       "   Overall Score  Work Rate of Players  \n",
       "0      96.875000          Medium/ High  \n",
       "1      93.125000             High/ Low  \n",
       "2      92.625000          High/ Medium  \n",
       "3      86.166667        Medium/ Medium  \n",
       "4      92.354167            High/ High  \n",
       "\n",
       "[5 rows x 85 columns]"
      ]
     },
     "execution_count": 133,
     "metadata": {},
     "output_type": "execute_result"
    }
   ],
   "source": [
    "df.head()"
   ]
  },
  {
   "cell_type": "markdown",
   "metadata": {},
   "source": [
    "# Best Players based on Overall Score and Work Rate\n",
    "These are the top 10 players in the 2019 league ranked in order from overall score and work rate"
   ]
  },
  {
   "cell_type": "code",
   "execution_count": 135,
   "metadata": {},
   "outputs": [
    {
     "data": {
      "text/html": [
       "<div>\n",
       "<style scoped>\n",
       "    .dataframe tbody tr th:only-of-type {\n",
       "        vertical-align: middle;\n",
       "    }\n",
       "\n",
       "    .dataframe tbody tr th {\n",
       "        vertical-align: top;\n",
       "    }\n",
       "\n",
       "    .dataframe thead th {\n",
       "        text-align: right;\n",
       "    }\n",
       "</style>\n",
       "<table border=\"1\" class=\"dataframe\">\n",
       "  <thead>\n",
       "    <tr style=\"text-align: right;\">\n",
       "      <th></th>\n",
       "      <th>Overall Score</th>\n",
       "      <th>Work Rate of Players</th>\n",
       "      <th>Nationality</th>\n",
       "      <th>Position</th>\n",
       "    </tr>\n",
       "    <tr>\n",
       "      <th>Name</th>\n",
       "      <th></th>\n",
       "      <th></th>\n",
       "      <th></th>\n",
       "      <th></th>\n",
       "    </tr>\n",
       "  </thead>\n",
       "  <tbody>\n",
       "    <tr>\n",
       "      <th>L. Messi</th>\n",
       "      <td>96.875000</td>\n",
       "      <td>Medium/ High</td>\n",
       "      <td>Argentina</td>\n",
       "      <td>RF</td>\n",
       "    </tr>\n",
       "    <tr>\n",
       "      <th>E. Hazard</th>\n",
       "      <td>93.187500</td>\n",
       "      <td>High/ Medium</td>\n",
       "      <td>Belgium</td>\n",
       "      <td>LF</td>\n",
       "    </tr>\n",
       "    <tr>\n",
       "      <th>Cristiano Ronaldo</th>\n",
       "      <td>93.125000</td>\n",
       "      <td>High/ Low</td>\n",
       "      <td>Portugal</td>\n",
       "      <td>ST</td>\n",
       "    </tr>\n",
       "    <tr>\n",
       "      <th>Neymar Jr</th>\n",
       "      <td>92.625000</td>\n",
       "      <td>High/ Medium</td>\n",
       "      <td>Brazil</td>\n",
       "      <td>LW</td>\n",
       "    </tr>\n",
       "    <tr>\n",
       "      <th>L. Suárez</th>\n",
       "      <td>92.375000</td>\n",
       "      <td>High/ Medium</td>\n",
       "      <td>Uruguay</td>\n",
       "      <td>RS</td>\n",
       "    </tr>\n",
       "    <tr>\n",
       "      <th>K. De Bruyne</th>\n",
       "      <td>92.354167</td>\n",
       "      <td>High/ High</td>\n",
       "      <td>Belgium</td>\n",
       "      <td>RCM</td>\n",
       "    </tr>\n",
       "    <tr>\n",
       "      <th>L. Modrić</th>\n",
       "      <td>92.312500</td>\n",
       "      <td>High/ High</td>\n",
       "      <td>Croatia</td>\n",
       "      <td>RCM</td>\n",
       "    </tr>\n",
       "    <tr>\n",
       "      <th>David Silva</th>\n",
       "      <td>92.083333</td>\n",
       "      <td>High/ Medium</td>\n",
       "      <td>Spain</td>\n",
       "      <td>LCM</td>\n",
       "    </tr>\n",
       "    <tr>\n",
       "      <th>S. Agüero</th>\n",
       "      <td>91.479167</td>\n",
       "      <td>High/ Medium</td>\n",
       "      <td>Argentina</td>\n",
       "      <td>ST</td>\n",
       "    </tr>\n",
       "    <tr>\n",
       "      <th>R. Lewandowski</th>\n",
       "      <td>90.750000</td>\n",
       "      <td>High/ Medium</td>\n",
       "      <td>Poland</td>\n",
       "      <td>ST</td>\n",
       "    </tr>\n",
       "  </tbody>\n",
       "</table>\n",
       "</div>"
      ],
      "text/plain": [
       "                   Overall Score Work Rate of Players Nationality Position\n",
       "Name                                                                      \n",
       "L. Messi               96.875000         Medium/ High   Argentina       RF\n",
       "E. Hazard              93.187500         High/ Medium     Belgium       LF\n",
       "Cristiano Ronaldo      93.125000            High/ Low    Portugal       ST\n",
       "Neymar Jr              92.625000         High/ Medium      Brazil       LW\n",
       "L. Suárez              92.375000         High/ Medium     Uruguay       RS\n",
       "K. De Bruyne           92.354167           High/ High     Belgium      RCM\n",
       "L. Modrić              92.312500           High/ High     Croatia      RCM\n",
       "David Silva            92.083333         High/ Medium       Spain      LCM\n",
       "S. Agüero              91.479167         High/ Medium   Argentina       ST\n",
       "R. Lewandowski         90.750000         High/ Medium      Poland       ST"
      ]
     },
     "execution_count": 135,
     "metadata": {},
     "output_type": "execute_result"
    }
   ],
   "source": [
    "best_player = df.sort_values(['Overall Score', 'Work Rate of Players'], ascending = False)[['Overall Score' , 'Name' , 'Work Rate of Players' , 'Nationality' , 'Position']].head(10)\n",
    "best_player.set_index('Name' , inplace = True)\n",
    "best_player"
   ]
  },
  {
   "cell_type": "code",
   "execution_count": 139,
   "metadata": {},
   "outputs": [],
   "source": [
    "xt = df"
   ]
  },
  {
   "cell_type": "code",
   "execution_count": 140,
   "metadata": {},
   "outputs": [],
   "source": [
    "xt.to_csv(\"Predicted_FIFA.csv\")"
   ]
  }
 ],
 "metadata": {
  "kernelspec": {
   "display_name": "Python 3",
   "language": "python",
   "name": "python3"
  },
  "language_info": {
   "codemirror_mode": {
    "name": "ipython",
    "version": 3
   },
   "file_extension": ".py",
   "mimetype": "text/x-python",
   "name": "python",
   "nbconvert_exporter": "python",
   "pygments_lexer": "ipython3",
   "version": "3.8.3"
  }
 },
 "nbformat": 4,
 "nbformat_minor": 2
}
