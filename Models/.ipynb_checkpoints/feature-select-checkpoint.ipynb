{
 "cells": [
  {
   "cell_type": "markdown",
   "metadata": {},
   "source": [
    "# Feature Selection"
   ]
  },
  {
   "cell_type": "markdown",
   "metadata": {},
   "source": [
    "## Import Libraries"
   ]
  },
  {
   "cell_type": "code",
   "execution_count": 1,
   "metadata": {},
   "outputs": [],
   "source": [
    "import pandas as pd\n",
    "import numpy as np\n",
    "from sklearn.feature_selection import SelectKBest\n",
    "from sklearn.feature_selection import chi2"
   ]
  },
  {
   "cell_type": "code",
   "execution_count": 2,
   "metadata": {},
   "outputs": [],
   "source": [
    "df = pd.read_csv(\"clean.csv\")"
   ]
  },
  {
   "cell_type": "code",
   "execution_count": 3,
   "metadata": {},
   "outputs": [
    {
     "name": "stdout",
     "output_type": "stream",
     "text": [
      "Name and type of varialbes are: \n",
      "\n",
      "Unnamed: 0            int64\n",
      "Name                 object\n",
      "Age                   int64\n",
      "Nationality          object\n",
      "Overall               int64\n",
      "                     ...   \n",
      "Release Clause       object\n",
      "Height in Cms       float64\n",
      "Weight in Pounds      int64\n",
      "Value in Pounds     float64\n",
      "Wage in Pounds      float64\n",
      "Length: 85, dtype: object\n",
      "\n",
      "The number of variables is 85\n",
      "...The number of categorical variables is 12\n",
      "...The number of continuous variable is 73\n",
      "List of continuous predictor:\n",
      "['Overall', 'Potential', 'Special', 'International Reputation', 'Weak Foot', 'Skill Moves', 'Jersey Number', 'LS', 'ST', 'RS', 'LW', 'LF', 'CF', 'RF', 'RW', 'LAM', 'CAM', 'RAM', 'LM', 'LCM', 'CM', 'RCM', 'RM', 'LWB', 'LDM', 'CDM', 'RDM', 'RWB', 'LB', 'LCB', 'CB', 'RCB', 'RB', 'Crossing', 'Finishing', 'HeadingAccuracy', 'ShortPassing', 'Volleys', 'Dribbling', 'Curve', 'FKAccuracy', 'LongPassing', 'BallControl', 'Acceleration', 'SprintSpeed', 'Agility', 'Reactions', 'Balance', 'ShotPower', 'Jumping', 'Stamina', 'Strength', 'LongShots', 'Aggression', 'Interceptions', 'Positioning', 'Vision', 'Penalties', 'Composure', 'Marking', 'StandingTackle', 'SlidingTackle', 'GKDiving', 'GKHandling', 'GKKicking', 'GKPositioning', 'GKReflexes', 'Height in Cms', 'Weight in Pounds', 'Value in Pounds', 'Wage in Pounds']\n",
      "List of categorical predictor:\n",
      "['Nationality', 'Club', 'Preferred Foot', 'Work Rate', 'Body Type', 'Real Face', 'Position', 'Joined', 'Loaned From', 'Contract Valid Until', 'Release Clause']\n"
     ]
    }
   ],
   "source": [
    "# Check type of predictor feature\n",
    "print('Name and type of varialbes are: \\n')\n",
    "print(df.dtypes)\n",
    "print('\\nThe number of variables is %d' %len(df.columns))\n",
    "print('...The number of categorical variables is %d' %(df.shape[1] - sum(df.dtypes=='float64') - sum(df.dtypes=='int64'))) # <- Count object type (Categorical variable) \n",
    "print('...The number of continuous variable is %d' %(sum(df.dtypes=='float64') + sum(df.dtypes=='int64'))) # <- Count float type (Continuos variable)\n",
    "\n",
    "list_predictor_continuous = []\n",
    "list_predictor_categorical = []\n",
    "\n",
    "for name in df.columns[3:]:\n",
    "    if df[name].dtype == 'float64' or df[name].dtype == 'int64':\n",
    "        list_predictor_continuous.append(name)\n",
    "    else:\n",
    "        list_predictor_categorical.append(name)\n",
    "\n",
    "print('List of continuous predictor:')\n",
    "print(list_predictor_continuous)\n",
    "print('List of categorical predictor:')\n",
    "print(list_predictor_categorical)"
   ]
  },
  {
   "cell_type": "code",
   "execution_count": 4,
   "metadata": {},
   "outputs": [],
   "source": [
    "from sklearn.feature_selection import SelectKBest\n",
    "from sklearn.feature_selection import f_regression"
   ]
  },
  {
   "cell_type": "code",
   "execution_count": 5,
   "metadata": {},
   "outputs": [],
   "source": [
    "features = ['International Reputation', 'Weak Foot', 'Skill Moves', 'Jersey Number', 'Crossing', 'Finishing', 'HeadingAccuracy', 'ShortPassing', 'Volleys', 'Dribbling', 'Curve', 'FKAccuracy', 'LongPassing', 'BallControl', 'Acceleration', 'SprintSpeed', 'Agility', 'Reactions', 'Balance', 'ShotPower', 'Jumping', 'Stamina', 'Strength', 'LongShots', 'Aggression', 'Interceptions', 'Positioning', 'Vision', 'Penalties', 'Composure', 'Marking', 'StandingTackle', 'SlidingTackle', 'GKDiving', 'GKHandling', 'GKKicking', 'GKPositioning', 'GKReflexes', 'Height in Cms', 'Weight in Pounds']\n",
    "\n",
    "X = df[features]\n",
    "y = df['Overall']"
   ]
  },
  {
   "cell_type": "code",
   "execution_count": 7,
   "metadata": {},
   "outputs": [
    {
     "name": "stdout",
     "output_type": "stream",
     "text": [
      "[0.00626026 0.01689438 0.01106915 0.02206536 0.02740501 0.02619621\n",
      " 0.02704343 0.0298456  0.02342178 0.02887213 0.02340715 0.0232333\n",
      " 0.02371397 0.03502229 0.02309588 0.02360695 0.02252771 0.03735739\n",
      " 0.02147442 0.02727636 0.02348316 0.02568571 0.02442636 0.02542822\n",
      " 0.02572316 0.03132628 0.02905353 0.02358079 0.02281675 0.02834818\n",
      " 0.02960251 0.02994772 0.02830736 0.0264259  0.02629712 0.02342162\n",
      " 0.02607912 0.02738874 0.0209643  0.02190475]\n"
     ]
    },
    {
     "data": {
      "image/png": "[encoded data removed]",
      "text/plain": [
       "<Figure size 432x288 with 1 Axes>"
      ]
     },
     "metadata": {
      "needs_background": "light"
     },
     "output_type": "display_data"
    }
   ],
   "source": [
    "from sklearn.ensemble import ExtraTreesClassifier\n",
    "import matplotlib.pyplot as plt\n",
    "model = ExtraTreesClassifier()\n",
    "model.fit(X,y)\n",
    "print(model.feature_importances_) #use inbuilt class feature_importances of tree based classifiers\n",
    "#plot graph of feature importances for better visualization\n",
    "feat_importances = pd.Series(model.feature_importances_, index=X.columns)\n",
    "feat_importances.nlargest(10).plot(kind='barh')\n",
    "plt.show()"
   ]
  },
  {
   "cell_type": "code",
   "execution_count": 8,
   "metadata": {},
   "outputs": [],
   "source": [
    "cat_features = ['Nationality', 'Club', 'Preferred Foot', 'Work Rate', 'Body Type', 'Real Face', 'Position']\n",
    "\n",
    "from sklearn.preprocessing import OrdinalEncoder, LabelEncoder, MinMaxScaler, StandardScaler, OneHotEncoder\n",
    "\n",
    "Rredictor_Categorical = df[cat_features].values\n",
    "\n",
    "# Integer Encoding for Categorical variable\n",
    "enc_pred = OrdinalEncoder() # <- Keep this instance for inverse transform after prediction\n",
    "Rredictor_Categorical_en = enc_pred.fit_transform(Rredictor_Categorical)"
   ]
  },
  {
   "cell_type": "code",
   "execution_count": 9,
   "metadata": {},
   "outputs": [],
   "source": [
    "X = pd.DataFrame(Rredictor_Categorical_en)"
   ]
  },
  {
   "cell_type": "code",
   "execution_count": 10,
   "metadata": {},
   "outputs": [],
   "source": [
    "from sklearn.model_selection import train_test_split\n",
    "X_train, X_test, y_train, y_test = train_test_split(X, y, test_size=0.10, random_state=77777)"
   ]
  },
  {
   "cell_type": "code",
   "execution_count": 11,
   "metadata": {},
   "outputs": [
    {
     "name": "stdout",
     "output_type": "stream",
     "text": [
      "[0, 1, 3, 5] selected features\n"
     ]
    }
   ],
   "source": [
    "from sklearn.feature_selection import SelectKBest\n",
    "from sklearn.feature_selection import chi2\n",
    "\n",
    "fs = SelectKBest(score_func=chi2, k=4)\n",
    "fs.fit(X_train, y_train)\n",
    "\n",
    "fs_support = fs.get_support()\n",
    "fs_feature = X.loc[:,fs_support].columns.tolist()\n",
    "print(str(fs_feature), 'selected features')"
   ]
  },
  {
   "cell_type": "code",
   "execution_count": 12,
   "metadata": {},
   "outputs": [],
   "source": [
    "new = enc_pred.inverse_transform(X)"
   ]
  },
  {
   "cell_type": "code",
   "execution_count": 13,
   "metadata": {},
   "outputs": [],
   "source": [
    "cate = pd.DataFrame(new)"
   ]
  },
  {
   "cell_type": "code",
   "execution_count": 14,
   "metadata": {},
   "outputs": [
    {
     "data": {
      "text/html": [
       "<div>\n",
       "<style scoped>\n",
       "    .dataframe tbody tr th:only-of-type {\n",
       "        vertical-align: middle;\n",
       "    }\n",
       "\n",
       "    .dataframe tbody tr th {\n",
       "        vertical-align: top;\n",
       "    }\n",
       "\n",
       "    .dataframe thead th {\n",
       "        text-align: right;\n",
       "    }\n",
       "</style>\n",
       "<table border=\"1\" class=\"dataframe\">\n",
       "  <thead>\n",
       "    <tr style=\"text-align: right;\">\n",
       "      <th></th>\n",
       "      <th>0</th>\n",
       "      <th>1</th>\n",
       "      <th>2</th>\n",
       "      <th>3</th>\n",
       "      <th>4</th>\n",
       "      <th>5</th>\n",
       "      <th>6</th>\n",
       "    </tr>\n",
       "  </thead>\n",
       "  <tbody>\n",
       "    <tr>\n",
       "      <td>0</td>\n",
       "      <td>Argentina</td>\n",
       "      <td>FC Barcelona</td>\n",
       "      <td>Left</td>\n",
       "      <td>Medium/ Medium</td>\n",
       "      <td>Messi</td>\n",
       "      <td>Yes</td>\n",
       "      <td>RF</td>\n",
       "    </tr>\n",
       "    <tr>\n",
       "      <td>1</td>\n",
       "      <td>Portugal</td>\n",
       "      <td>Juventus</td>\n",
       "      <td>Right</td>\n",
       "      <td>High/ Low</td>\n",
       "      <td>C. Ronaldo</td>\n",
       "      <td>Yes</td>\n",
       "      <td>ST</td>\n",
       "    </tr>\n",
       "    <tr>\n",
       "      <td>2</td>\n",
       "      <td>Brazil</td>\n",
       "      <td>Paris Saint-Germain</td>\n",
       "      <td>Right</td>\n",
       "      <td>High/ Medium</td>\n",
       "      <td>Neymar</td>\n",
       "      <td>Yes</td>\n",
       "      <td>LW</td>\n",
       "    </tr>\n",
       "    <tr>\n",
       "      <td>3</td>\n",
       "      <td>Spain</td>\n",
       "      <td>Manchester United</td>\n",
       "      <td>Right</td>\n",
       "      <td>Medium/ Medium</td>\n",
       "      <td>Lean</td>\n",
       "      <td>Yes</td>\n",
       "      <td>GK</td>\n",
       "    </tr>\n",
       "    <tr>\n",
       "      <td>4</td>\n",
       "      <td>Belgium</td>\n",
       "      <td>Manchester City</td>\n",
       "      <td>Right</td>\n",
       "      <td>High/ High</td>\n",
       "      <td>Normal</td>\n",
       "      <td>Yes</td>\n",
       "      <td>RCM</td>\n",
       "    </tr>\n",
       "  </tbody>\n",
       "</table>\n",
       "</div>"
      ],
      "text/plain": [
       "           0                    1      2               3           4    5    6\n",
       "0  Argentina         FC Barcelona   Left  Medium/ Medium       Messi  Yes   RF\n",
       "1   Portugal             Juventus  Right       High/ Low  C. Ronaldo  Yes   ST\n",
       "2     Brazil  Paris Saint-Germain  Right    High/ Medium      Neymar  Yes   LW\n",
       "3      Spain    Manchester United  Right  Medium/ Medium        Lean  Yes   GK\n",
       "4    Belgium      Manchester City  Right      High/ High      Normal  Yes  RCM"
      ]
     },
     "execution_count": 14,
     "metadata": {},
     "output_type": "execute_result"
    }
   ],
   "source": [
    "cate.head()"
   ]
  },
  {
   "cell_type": "markdown",
   "metadata": {},
   "source": [
    "## Position Features"
   ]
  },
  {
   "cell_type": "code",
   "execution_count": 15,
   "metadata": {},
   "outputs": [],
   "source": [
    "df.Position = pd.Categorical(df.Position)\n",
    "df['pos_code'] = df.Position.cat.codes"
   ]
  },
  {
   "cell_type": "code",
   "execution_count": 16,
   "metadata": {},
   "outputs": [
    {
     "name": "stdout",
     "output_type": "stream",
     "text": [
      "{0: 'CAM', 1: 'CB', 2: 'CDM', 3: 'CF', 4: 'CM', 5: 'GK', 6: 'LAM', 7: 'LB', 8: 'LCB', 9: 'LCM', 10: 'LDM', 11: 'LF', 12: 'LM', 13: 'LS', 14: 'LW', 15: 'LWB', 16: 'RAM', 17: 'RB', 18: 'RCB', 19: 'RCM', 20: 'RDM', 21: 'RF', 22: 'RM', 23: 'RS', 24: 'RW', 25: 'RWB', 26: 'ST'}\n"
     ]
    }
   ],
   "source": [
    "d = dict(enumerate(df.Position.cat.categories))\n",
    "print(d)"
   ]
  },
  {
   "cell_type": "code",
   "execution_count": 17,
   "metadata": {},
   "outputs": [],
   "source": [
    "features = ['International Reputation', 'Weak Foot', 'Skill Moves', 'Jersey Number', 'Crossing', 'Finishing', 'HeadingAccuracy', 'ShortPassing', 'Volleys', 'Dribbling', 'Curve', 'FKAccuracy', 'LongPassing', 'BallControl', 'Acceleration', 'SprintSpeed', 'Agility', 'Reactions', 'Balance', 'ShotPower', 'Jumping', 'Stamina', 'Strength', 'LongShots', 'Aggression', 'Interceptions', 'Positioning', 'Vision', 'Penalties', 'Composure', 'Marking', 'StandingTackle', 'SlidingTackle', 'GKDiving', 'GKHandling', 'GKKicking', 'GKPositioning', 'GKReflexes', 'Height in Cms', 'Weight in Pounds']\n",
    "\n",
    "X = df[features]\n",
    "y = df['pos_code']"
   ]
  },
  {
   "cell_type": "code",
   "execution_count": 18,
   "metadata": {},
   "outputs": [
    {
     "name": "stdout",
     "output_type": "stream",
     "text": [
      "[0.00463472 0.01356718 0.0155957  0.01711489 0.03965881 0.03252445\n",
      " 0.02922426 0.02133336 0.02003773 0.02925598 0.02348473 0.02082512\n",
      " 0.02774499 0.0258324  0.02197135 0.02278102 0.02363406 0.01816435\n",
      " 0.01803665 0.0338276  0.01922826 0.02501493 0.02296144 0.02436155\n",
      " 0.01878493 0.02912208 0.03673492 0.02587773 0.02262735 0.01949865\n",
      " 0.04050164 0.0324316  0.04797524 0.02489789 0.03286396 0.02066449\n",
      " 0.02776177 0.02877136 0.02085287 0.01981801]\n"
     ]
    },
    {
     "data": {
      "image/png": "[encoded data removed]",
      "text/plain": [
       "<Figure size 432x288 with 1 Axes>"
      ]
     },
     "metadata": {
      "needs_background": "light"
     },
     "output_type": "display_data"
    }
   ],
   "source": [
    "model = ExtraTreesClassifier()\n",
    "model.fit(X,y)\n",
    "print(model.feature_importances_) #use inbuilt class feature_importances of tree based classifiers\n",
    "#plot graph of feature importances for better visualization\n",
    "feat_importances = pd.Series(model.feature_importances_, index=X.columns)\n",
    "feat_importances.nlargest(10).plot(kind='barh')\n",
    "plt.show()"
   ]
  },
  {
   "cell_type": "code",
   "execution_count": 19,
   "metadata": {},
   "outputs": [],
   "source": [
    "cat_features = ['Nationality', 'Club', 'Preferred Foot', 'Work Rate', 'Body Type', 'Real Face', 'Position']\n",
    "\n",
    "Rredictor_Categorical = df[cat_features].values\n",
    "\n",
    "# Integer Encoding for Categorical variable\n",
    "enc_pred = OrdinalEncoder() # <- Keep this instance for inverse transform after prediction\n",
    "Rredictor_Categorical_en = enc_pred.fit_transform(Rredictor_Categorical)"
   ]
  },
  {
   "cell_type": "code",
   "execution_count": 20,
   "metadata": {},
   "outputs": [],
   "source": [
    "X = pd.DataFrame(Rredictor_Categorical_en)"
   ]
  },
  {
   "cell_type": "code",
   "execution_count": 21,
   "metadata": {},
   "outputs": [],
   "source": [
    "X_train, X_test, y_train, y_test = train_test_split(X, y, test_size=0.10, random_state=77777)"
   ]
  },
  {
   "cell_type": "code",
   "execution_count": 22,
   "metadata": {},
   "outputs": [
    {
     "name": "stdout",
     "output_type": "stream",
     "text": [
      "[0, 1, 3, 6] selected features\n"
     ]
    }
   ],
   "source": [
    "fs = SelectKBest(score_func=chi2, k=4)\n",
    "fs.fit(X_train, y_train)\n",
    "\n",
    "fs_support = fs.get_support()\n",
    "fs_feature = X.loc[:,fs_support].columns.tolist()\n",
    "print(str(fs_feature), 'selected features')"
   ]
  },
  {
   "cell_type": "markdown",
   "metadata": {},
   "source": [
    "## Work Rate"
   ]
  },
  {
   "cell_type": "code",
   "execution_count": 25,
   "metadata": {},
   "outputs": [],
   "source": [
    "df['Work_Rate'] = df['Work Rate']"
   ]
  },
  {
   "cell_type": "code",
   "execution_count": 26,
   "metadata": {},
   "outputs": [],
   "source": [
    "df.Work_Rate = pd.Categorical(df.Work_Rate)\n",
    "df['WR_code'] = df.Work_Rate.cat.codes"
   ]
  },
  {
   "cell_type": "code",
   "execution_count": 27,
   "metadata": {},
   "outputs": [
    {
     "name": "stdout",
     "output_type": "stream",
     "text": [
      "{0: 'High/ High', 1: 'High/ Low', 2: 'High/ Medium', 3: 'Low/ High', 4: 'Low/ Low', 5: 'Low/ Medium', 6: 'Medium/ High', 7: 'Medium/ Low', 8: 'Medium/ Medium'}\n"
     ]
    }
   ],
   "source": [
    "a = dict(enumerate(df.Work_Rate.cat.categories))\n",
    "print(a)"
   ]
  },
  {
   "cell_type": "code",
   "execution_count": 28,
   "metadata": {},
   "outputs": [],
   "source": [
    "features = ['International Reputation', 'Weak Foot', 'Skill Moves', 'Jersey Number', 'Crossing', 'Finishing', 'HeadingAccuracy', 'ShortPassing', 'Volleys', 'Dribbling', 'Curve', 'FKAccuracy', 'LongPassing', 'BallControl', 'Acceleration', 'SprintSpeed', 'Agility', 'Reactions', 'Balance', 'ShotPower', 'Jumping', 'Stamina', 'Strength', 'LongShots', 'Aggression', 'Interceptions', 'Positioning', 'Vision', 'Penalties', 'Composure', 'Marking', 'StandingTackle', 'SlidingTackle', 'GKDiving', 'GKHandling', 'GKKicking', 'GKPositioning', 'GKReflexes', 'Height in Cms', 'Weight in Pounds']\n",
    "\n",
    "X = df[features]\n",
    "y = df['WR_code']"
   ]
  },
  {
   "cell_type": "code",
   "execution_count": 29,
   "metadata": {},
   "outputs": [
    {
     "name": "stdout",
     "output_type": "stream",
     "text": [
      "[0.00584821 0.01834119 0.01140349 0.02304337 0.02473981 0.02640663\n",
      " 0.02243107 0.03007409 0.02978705 0.02457275 0.02305841 0.02218818\n",
      " 0.02184899 0.03342801 0.02813668 0.03672798 0.02282682 0.02232411\n",
      " 0.02292773 0.02257686 0.02462464 0.03751637 0.02402527 0.02295046\n",
      " 0.02913595 0.02786205 0.03481341 0.02255963 0.02322651 0.02582816\n",
      " 0.02387365 0.0263115  0.02986299 0.02471337 0.03188133 0.02185254\n",
      " 0.02713093 0.0259573  0.0216988  0.02148369]\n"
     ]
    },
    {
     "data": {
      "image/png": "[encoded data removed]",
      "text/plain": [
       "<Figure size 432x288 with 1 Axes>"
      ]
     },
     "metadata": {
      "needs_background": "light"
     },
     "output_type": "display_data"
    }
   ],
   "source": [
    "model = ExtraTreesClassifier()\n",
    "model.fit(X,y)\n",
    "print(model.feature_importances_) #use inbuilt class feature_importances of tree based classifiers\n",
    "#plot graph of feature importances for better visualization\n",
    "feat_importances = pd.Series(model.feature_importances_, index=X.columns)\n",
    "feat_importances.nlargest(10).plot(kind='barh')\n",
    "plt.show()"
   ]
  },
  {
   "cell_type": "code",
   "execution_count": 30,
   "metadata": {},
   "outputs": [],
   "source": [
    "cat_features = ['Nationality', 'Club', 'Preferred Foot', 'Work Rate', 'Body Type', 'Real Face', 'Position']\n",
    "\n",
    "Rredictor_Categorical = df[cat_features].values\n",
    "\n",
    "# Integer Encoding for Categorical variable\n",
    "enc_pred = OrdinalEncoder() # <- Keep this instance for inverse transform after prediction\n",
    "Rredictor_Categorical_en = enc_pred.fit_transform(Rredictor_Categorical)"
   ]
  },
  {
   "cell_type": "code",
   "execution_count": 31,
   "metadata": {},
   "outputs": [],
   "source": [
    "X = pd.DataFrame(Rredictor_Categorical_en)\n",
    "X_train, X_test, y_train, y_test = train_test_split(X, y, test_size=0.10, random_state=77777)"
   ]
  },
  {
   "cell_type": "code",
   "execution_count": 32,
   "metadata": {},
   "outputs": [
    {
     "name": "stdout",
     "output_type": "stream",
     "text": [
      "[0, 1, 3, 6] selected features\n"
     ]
    }
   ],
   "source": [
    "fs = SelectKBest(score_func=chi2, k=4)\n",
    "fs.fit(X_train, y_train)\n",
    "\n",
    "fs_support = fs.get_support()\n",
    "fs_feature = X.loc[:,fs_support].columns.tolist()\n",
    "print(str(fs_feature), 'selected features')"
   ]
  }
 ],
 "metadata": {
  "kernelspec": {
   "display_name": "Python 3",
   "language": "python",
   "name": "python3"
  },
  "language_info": {
   "codemirror_mode": {
    "name": "ipython",
    "version": 3
   },
   "file_extension": ".py",
   "mimetype": "text/x-python",
   "name": "python",
   "nbconvert_exporter": "python",
   "pygments_lexer": "ipython3",
   "version": "3.8.3"
  }
 },
 "nbformat": 4,
 "nbformat_minor": 2
}
