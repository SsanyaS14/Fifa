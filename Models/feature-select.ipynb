{
 "metadata": {
  "language_info": {
   "codemirror_mode": {
    "name": "ipython",
    "version": 3
   },
   "file_extension": ".py",
   "mimetype": "text/x-python",
   "name": "python",
   "nbconvert_exporter": "python",
   "pygments_lexer": "ipython3",
   "version": "3.7.4-final"
  },
  "orig_nbformat": 2,
  "kernelspec": {
   "name": "python3",
   "display_name": "Python 3",
   "language": "python"
  }
 },
 "nbformat": 4,
 "nbformat_minor": 2,
 "cells": [
  {
   "source": [
    "# Feature Selection"
   ],
   "cell_type": "markdown",
   "metadata": {}
  },
  {
   "source": [
    "## Import Libraries"
   ],
   "cell_type": "markdown",
   "metadata": {}
  },
  {
   "cell_type": "code",
   "execution_count": 1,
   "metadata": {},
   "outputs": [],
   "source": [
    "import pandas as pd\n",
    "import numpy as np\n",
    "from sklearn.feature_selection import SelectKBest\n",
    "from sklearn.feature_selection import chi2"
   ]
  },
  {
   "cell_type": "code",
   "execution_count": 2,
   "metadata": {},
   "outputs": [],
   "source": [
    "df = pd.read_csv(\"clean.csv\")"
   ]
  },
  {
   "cell_type": "code",
   "execution_count": 3,
   "metadata": {},
   "outputs": [
    {
     "output_type": "stream",
     "name": "stdout",
     "text": [
      "Name and type of varialbes are: \n\nUnnamed: 0            int64\nName                 object\nAge                   int64\nNationality          object\nOverall               int64\n                     ...   \nRelease Clause       object\nHeight in Cms       float64\nWeight in Pounds      int64\nValue in Pounds     float64\nWage in Pounds      float64\nLength: 85, dtype: object\n\nThe number of variables is 85\n...The number of categorical variables is 12\n...The number of continuous variable is 73\nList of continuous predictor:\n['Overall', 'Potential', 'Special', 'International Reputation', 'Weak Foot', 'Skill Moves', 'Jersey Number', 'LS', 'ST', 'RS', 'LW', 'LF', 'CF', 'RF', 'RW', 'LAM', 'CAM', 'RAM', 'LM', 'LCM', 'CM', 'RCM', 'RM', 'LWB', 'LDM', 'CDM', 'RDM', 'RWB', 'LB', 'LCB', 'CB', 'RCB', 'RB', 'Crossing', 'Finishing', 'HeadingAccuracy', 'ShortPassing', 'Volleys', 'Dribbling', 'Curve', 'FKAccuracy', 'LongPassing', 'BallControl', 'Acceleration', 'SprintSpeed', 'Agility', 'Reactions', 'Balance', 'ShotPower', 'Jumping', 'Stamina', 'Strength', 'LongShots', 'Aggression', 'Interceptions', 'Positioning', 'Vision', 'Penalties', 'Composure', 'Marking', 'StandingTackle', 'SlidingTackle', 'GKDiving', 'GKHandling', 'GKKicking', 'GKPositioning', 'GKReflexes', 'Height in Cms', 'Weight in Pounds', 'Value in Pounds', 'Wage in Pounds']\nList of categorical predictor:\n['Nationality', 'Club', 'Preferred Foot', 'Work Rate', 'Body Type', 'Real Face', 'Position', 'Joined', 'Loaned From', 'Contract Valid Until', 'Release Clause']\n"
     ]
    }
   ],
   "source": [
    "# Check type of predictor feature\n",
    "print('Name and type of varialbes are: \\n')\n",
    "print(df.dtypes)\n",
    "print('\\nThe number of variables is %d' %len(df.columns))\n",
    "print('...The number of categorical variables is %d' %(df.shape[1] - sum(df.dtypes=='float64') - sum(df.dtypes=='int64'))) # <- Count object type (Categorical variable) \n",
    "print('...The number of continuous variable is %d' %(sum(df.dtypes=='float64') + sum(df.dtypes=='int64'))) # <- Count float type (Continuos variable)\n",
    "\n",
    "list_predictor_continuous = []\n",
    "list_predictor_categorical = []\n",
    "\n",
    "for name in df.columns[3:]:\n",
    "    if df[name].dtype == 'float64' or df[name].dtype == 'int64':\n",
    "        list_predictor_continuous.append(name)\n",
    "    else:\n",
    "        list_predictor_categorical.append(name)\n",
    "\n",
    "print('List of continuous predictor:')\n",
    "print(list_predictor_continuous)\n",
    "print('List of categorical predictor:')\n",
    "print(list_predictor_categorical)"
   ]
  },
  {
   "cell_type": "code",
   "execution_count": 4,
   "metadata": {},
   "outputs": [],
   "source": [
    "from sklearn.feature_selection import SelectKBest\n",
    "from sklearn.feature_selection import f_regression"
   ]
  },
  {
   "cell_type": "code",
   "execution_count": 5,
   "metadata": {},
   "outputs": [],
   "source": [
    "features = ['International Reputation', 'Weak Foot', 'Skill Moves', 'Jersey Number', 'Crossing', 'Finishing', 'HeadingAccuracy', 'ShortPassing', 'Volleys', 'Dribbling', 'Curve', 'FKAccuracy', 'LongPassing', 'BallControl', 'Acceleration', 'SprintSpeed', 'Agility', 'Reactions', 'Balance', 'ShotPower', 'Jumping', 'Stamina', 'Strength', 'LongShots', 'Aggression', 'Interceptions', 'Positioning', 'Vision', 'Penalties', 'Composure', 'Marking', 'StandingTackle', 'SlidingTackle', 'GKDiving', 'GKHandling', 'GKKicking', 'GKPositioning', 'GKReflexes', 'Height in Cms', 'Weight in Pounds']\n",
    "\n",
    "X = df[features]\n",
    "y = df['Overall']"
   ]
  },
  {
   "cell_type": "code",
   "execution_count": 7,
   "metadata": {},
   "outputs": [
    {
     "output_type": "stream",
     "name": "stdout",
     "text": [
      "[0.00623713 0.01735189 0.0103434  0.02226833 0.02609206 0.02732196\n 0.02812972 0.02980332 0.02341837 0.03000977 0.0226031  0.02239848\n 0.02581219 0.03182384 0.02384836 0.02368448 0.02275794 0.03940358\n 0.02141641 0.02560097 0.02338116 0.02529198 0.02482437 0.02522717\n 0.0248022  0.02817885 0.02849074 0.02480192 0.02348868 0.02899151\n 0.02887838 0.03189778 0.02929726 0.02675326 0.02638531 0.02360674\n 0.02535495 0.02611228 0.02117771 0.0227325 ]\n"
     ]
    },
    {
     "output_type": "display_data",
     "data": {
      "text/plain": "<Figure size 432x288 with 1 Axes>",
      "image/png": "[encoded data removed]"
     },
     "metadata": {
      "needs_background": "light"
     }
    }
   ],
   "source": [
    "from sklearn.ensemble import ExtraTreesClassifier\n",
    "import matplotlib.pyplot as plt\n",
    "model = ExtraTreesClassifier()\n",
    "model.fit(X,y)\n",
    "print(model.feature_importances_) #use inbuilt class feature_importances of tree based classifiers\n",
    "#plot graph of feature importances for better visualization\n",
    "feat_importances = pd.Series(model.feature_importances_, index=X.columns)\n",
    "feat_importances.nlargest(10).plot(kind='barh')\n",
    "plt.show()"
   ]
  },
  {
   "cell_type": "code",
   "execution_count": 8,
   "metadata": {},
   "outputs": [],
   "source": [
    "cat_features = ['Nationality', 'Club', 'Preferred Foot', 'Work Rate', 'Body Type', 'Real Face', 'Position']\n",
    "\n",
    "from sklearn.preprocessing import OrdinalEncoder, LabelEncoder, MinMaxScaler, StandardScaler, OneHotEncoder\n",
    "\n",
    "Rredictor_Categorical = df[cat_features].values\n",
    "\n",
    "# Integer Encoding for Categorical variable\n",
    "enc_pred = OrdinalEncoder() # <- Keep this instance for inverse transform after prediction\n",
    "Rredictor_Categorical_en = enc_pred.fit_transform(Rredictor_Categorical)"
   ]
  },
  {
   "cell_type": "code",
   "execution_count": 9,
   "metadata": {},
   "outputs": [],
   "source": [
    "X = pd.DataFrame(Rredictor_Categorical_en)"
   ]
  },
  {
   "cell_type": "code",
   "execution_count": 10,
   "metadata": {},
   "outputs": [],
   "source": [
    "from sklearn.model_selection import train_test_split\n",
    "X_train, X_test, y_train, y_test = train_test_split(X, y, test_size=0.10, random_state=77777)"
   ]
  },
  {
   "cell_type": "code",
   "execution_count": 16,
   "metadata": {},
   "outputs": [
    {
     "output_type": "stream",
     "name": "stdout",
     "text": [
      "[0, 1, 3, 5] selected features\n"
     ]
    }
   ],
   "source": [
    "from sklearn.feature_selection import SelectKBest\n",
    "from sklearn.feature_selection import chi2\n",
    "\n",
    "fs = SelectKBest(score_func=chi2, k=4)\n",
    "fs.fit(X_train, y_train)\n",
    "\n",
    "fs_support = fs.get_support()\n",
    "fs_feature = X.loc[:,fs_support].columns.tolist()\n",
    "print(str(fs_feature), 'selected features')"
   ]
  },
  {
   "cell_type": "code",
   "execution_count": 17,
   "metadata": {},
   "outputs": [],
   "source": [
    "new = enc_pred.inverse_transform(X)"
   ]
  },
  {
   "cell_type": "code",
   "execution_count": 18,
   "metadata": {},
   "outputs": [],
   "source": [
    "cate = pd.DataFrame(new)"
   ]
  },
  {
   "cell_type": "code",
   "execution_count": 19,
   "metadata": {},
   "outputs": [
    {
     "output_type": "execute_result",
     "data": {
      "text/plain": [
       "           0                    1      2               3           4    5    6\n",
       "0  Argentina         FC Barcelona   Left  Medium/ Medium       Messi  Yes   RF\n",
       "1   Portugal             Juventus  Right       High/ Low  C. Ronaldo  Yes   ST\n",
       "2     Brazil  Paris Saint-Germain  Right    High/ Medium      Neymar  Yes   LW\n",
       "3      Spain    Manchester United  Right  Medium/ Medium        Lean  Yes   GK\n",
       "4    Belgium      Manchester City  Right      High/ High      Normal  Yes  RCM"
      ],
      "text/html": "<div>\n<style scoped>\n    .dataframe tbody tr th:only-of-type {\n        vertical-align: middle;\n    }\n\n    .dataframe tbody tr th {\n        vertical-align: top;\n    }\n\n    .dataframe thead th {\n        text-align: right;\n    }\n</style>\n<table border=\"1\" class=\"dataframe\">\n  <thead>\n    <tr style=\"text-align: right;\">\n      <th></th>\n      <th>0</th>\n      <th>1</th>\n      <th>2</th>\n      <th>3</th>\n      <th>4</th>\n      <th>5</th>\n      <th>6</th>\n    </tr>\n  </thead>\n  <tbody>\n    <tr>\n      <td>0</td>\n      <td>Argentina</td>\n      <td>FC Barcelona</td>\n      <td>Left</td>\n      <td>Medium/ Medium</td>\n      <td>Messi</td>\n      <td>Yes</td>\n      <td>RF</td>\n    </tr>\n    <tr>\n      <td>1</td>\n      <td>Portugal</td>\n      <td>Juventus</td>\n      <td>Right</td>\n      <td>High/ Low</td>\n      <td>C. Ronaldo</td>\n      <td>Yes</td>\n      <td>ST</td>\n    </tr>\n    <tr>\n      <td>2</td>\n      <td>Brazil</td>\n      <td>Paris Saint-Germain</td>\n      <td>Right</td>\n      <td>High/ Medium</td>\n      <td>Neymar</td>\n      <td>Yes</td>\n      <td>LW</td>\n    </tr>\n    <tr>\n      <td>3</td>\n      <td>Spain</td>\n      <td>Manchester United</td>\n      <td>Right</td>\n      <td>Medium/ Medium</td>\n      <td>Lean</td>\n      <td>Yes</td>\n      <td>GK</td>\n    </tr>\n    <tr>\n      <td>4</td>\n      <td>Belgium</td>\n      <td>Manchester City</td>\n      <td>Right</td>\n      <td>High/ High</td>\n      <td>Normal</td>\n      <td>Yes</td>\n      <td>RCM</td>\n    </tr>\n  </tbody>\n</table>\n</div>"
     },
     "metadata": {},
     "execution_count": 19
    }
   ],
   "source": [
    "cate.head()"
   ]
  },
  {
   "source": [
    "## Position Features"
   ],
   "cell_type": "markdown",
   "metadata": {}
  },
  {
   "cell_type": "code",
   "execution_count": 25,
   "metadata": {},
   "outputs": [],
   "source": [
    "df.Position = pd.Categorical(df.Position)\n",
    "df['pos_code'] = df.Position.cat.codes"
   ]
  },
  {
   "cell_type": "code",
   "execution_count": 28,
   "metadata": {},
   "outputs": [
    {
     "output_type": "stream",
     "name": "stdout",
     "text": [
      "{0: 'CAM', 1: 'CB', 2: 'CDM', 3: 'CF', 4: 'CM', 5: 'GK', 6: 'LAM', 7: 'LB', 8: 'LCB', 9: 'LCM', 10: 'LDM', 11: 'LF', 12: 'LM', 13: 'LS', 14: 'LW', 15: 'LWB', 16: 'RAM', 17: 'RB', 18: 'RCB', 19: 'RCM', 20: 'RDM', 21: 'RF', 22: 'RM', 23: 'RS', 24: 'RW', 25: 'RWB', 26: 'ST'}\n"
     ]
    }
   ],
   "source": [
    "d = dict(enumerate(df.Position.cat.categories))\n",
    "print(d)"
   ]
  },
  {
   "cell_type": "code",
   "execution_count": 29,
   "metadata": {},
   "outputs": [],
   "source": [
    "features = ['International Reputation', 'Weak Foot', 'Skill Moves', 'Jersey Number', 'Crossing', 'Finishing', 'HeadingAccuracy', 'ShortPassing', 'Volleys', 'Dribbling', 'Curve', 'FKAccuracy', 'LongPassing', 'BallControl', 'Acceleration', 'SprintSpeed', 'Agility', 'Reactions', 'Balance', 'ShotPower', 'Jumping', 'Stamina', 'Strength', 'LongShots', 'Aggression', 'Interceptions', 'Positioning', 'Vision', 'Penalties', 'Composure', 'Marking', 'StandingTackle', 'SlidingTackle', 'GKDiving', 'GKHandling', 'GKKicking', 'GKPositioning', 'GKReflexes', 'Height in Cms', 'Weight in Pounds']\n",
    "\n",
    "X = df[features]\n",
    "y = df['pos_code']"
   ]
  },
  {
   "cell_type": "code",
   "execution_count": 30,
   "metadata": {},
   "outputs": [
    {
     "output_type": "stream",
     "name": "stdout",
     "text": [
      "[0.00504263 0.01378997 0.01168481 0.01796109 0.04164682 0.02552321\n 0.03112566 0.02198824 0.02715883 0.02226162 0.01898076 0.02359453\n 0.0377498  0.02510265 0.02185913 0.02541652 0.02014573 0.01731257\n 0.02053864 0.01990643 0.01924169 0.018833   0.02182621 0.02325725\n 0.02135105 0.03257056 0.02947836 0.03086746 0.02620538 0.01712815\n 0.03829821 0.0438982  0.03040653 0.02272487 0.01853545 0.03420367\n 0.04063781 0.0418309  0.02171918 0.01819645]\n"
     ]
    },
    {
     "output_type": "display_data",
     "data": {
      "text/plain": "<Figure size 432x288 with 1 Axes>",
      "image/png": "[encoded data removed]"
     },
     "metadata": {
      "needs_background": "light"
     }
    }
   ],
   "source": [
    "model = ExtraTreesClassifier()\n",
    "model.fit(X,y)\n",
    "print(model.feature_importances_) #use inbuilt class feature_importances of tree based classifiers\n",
    "#plot graph of feature importances for better visualization\n",
    "feat_importances = pd.Series(model.feature_importances_, index=X.columns)\n",
    "feat_importances.nlargest(10).plot(kind='barh')\n",
    "plt.show()"
   ]
  },
  {
   "cell_type": "code",
   "execution_count": 31,
   "metadata": {},
   "outputs": [],
   "source": [
    "cat_features = ['Nationality', 'Club', 'Preferred Foot', 'Work Rate', 'Body Type', 'Real Face', 'Position']\n",
    "\n",
    "Rredictor_Categorical = df[cat_features].values\n",
    "\n",
    "# Integer Encoding for Categorical variable\n",
    "enc_pred = OrdinalEncoder() # <- Keep this instance for inverse transform after prediction\n",
    "Rredictor_Categorical_en = enc_pred.fit_transform(Rredictor_Categorical)"
   ]
  },
  {
   "cell_type": "code",
   "execution_count": 32,
   "metadata": {},
   "outputs": [],
   "source": [
    "X = pd.DataFrame(Rredictor_Categorical_en)"
   ]
  },
  {
   "cell_type": "code",
   "execution_count": 33,
   "metadata": {},
   "outputs": [],
   "source": [
    "X_train, X_test, y_train, y_test = train_test_split(X, y, test_size=0.10, random_state=77777)"
   ]
  },
  {
   "cell_type": "code",
   "execution_count": 37,
   "metadata": {},
   "outputs": [
    {
     "output_type": "stream",
     "name": "stdout",
     "text": [
      "[0, 1, 3, 6] selected features\n"
     ]
    }
   ],
   "source": [
    "fs = SelectKBest(score_func=chi2, k=4)\n",
    "fs.fit(X_train, y_train)\n",
    "\n",
    "fs_support = fs.get_support()\n",
    "fs_feature = X.loc[:,fs_support].columns.tolist()\n",
    "print(str(fs_feature), 'selected features')"
   ]
  },
  {
   "source": [
    "### Work Rate"
   ],
   "cell_type": "markdown",
   "metadata": {}
  },
  {
   "cell_type": "code",
   "execution_count": null,
   "metadata": {},
   "outputs": [],
   "source": []
  }
 ]
}