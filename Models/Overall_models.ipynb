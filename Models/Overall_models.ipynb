{
 "cells": [
  {
   "cell_type": "markdown",
   "metadata": {},
   "source": [
    "# Overall Models\n",
    "## Data Preprocessing"
   ]
  },
  {
   "cell_type": "code",
   "execution_count": 58,
   "metadata": {},
   "outputs": [
    {
     "data": {
      "text/html": [
       "<div>\n",
       "<style scoped>\n",
       "    .dataframe tbody tr th:only-of-type {\n",
       "        vertical-align: middle;\n",
       "    }\n",
       "\n",
       "    .dataframe tbody tr th {\n",
       "        vertical-align: top;\n",
       "    }\n",
       "\n",
       "    .dataframe thead th {\n",
       "        text-align: right;\n",
       "    }\n",
       "</style>\n",
       "<table border=\"1\" class=\"dataframe\">\n",
       "  <thead>\n",
       "    <tr style=\"text-align: right;\">\n",
       "      <th></th>\n",
       "      <th>Unnamed: 0</th>\n",
       "      <th>Name</th>\n",
       "      <th>Age</th>\n",
       "      <th>Nationality</th>\n",
       "      <th>Overall</th>\n",
       "      <th>Potential</th>\n",
       "      <th>Club</th>\n",
       "      <th>Special</th>\n",
       "      <th>Preferred Foot</th>\n",
       "      <th>International Reputation</th>\n",
       "      <th>...</th>\n",
       "      <th>GKDiving</th>\n",
       "      <th>GKHandling</th>\n",
       "      <th>GKKicking</th>\n",
       "      <th>GKPositioning</th>\n",
       "      <th>GKReflexes</th>\n",
       "      <th>Release Clause</th>\n",
       "      <th>Height in Cms</th>\n",
       "      <th>Weight in Pounds</th>\n",
       "      <th>Value in Pounds</th>\n",
       "      <th>Wage in Pounds</th>\n",
       "    </tr>\n",
       "  </thead>\n",
       "  <tbody>\n",
       "    <tr>\n",
       "      <th>0</th>\n",
       "      <td>0</td>\n",
       "      <td>L. Messi</td>\n",
       "      <td>31</td>\n",
       "      <td>Argentina</td>\n",
       "      <td>94</td>\n",
       "      <td>94</td>\n",
       "      <td>FC Barcelona</td>\n",
       "      <td>2202</td>\n",
       "      <td>Left</td>\n",
       "      <td>5.0</td>\n",
       "      <td>...</td>\n",
       "      <td>6.0</td>\n",
       "      <td>11.0</td>\n",
       "      <td>15.0</td>\n",
       "      <td>14.0</td>\n",
       "      <td>8.0</td>\n",
       "      <td>€226.5M</td>\n",
       "      <td>170.18</td>\n",
       "      <td>159</td>\n",
       "      <td>110500000.0</td>\n",
       "      <td>565000.0</td>\n",
       "    </tr>\n",
       "    <tr>\n",
       "      <th>1</th>\n",
       "      <td>1</td>\n",
       "      <td>Cristiano Ronaldo</td>\n",
       "      <td>33</td>\n",
       "      <td>Portugal</td>\n",
       "      <td>94</td>\n",
       "      <td>94</td>\n",
       "      <td>Juventus</td>\n",
       "      <td>2228</td>\n",
       "      <td>Right</td>\n",
       "      <td>5.0</td>\n",
       "      <td>...</td>\n",
       "      <td>7.0</td>\n",
       "      <td>11.0</td>\n",
       "      <td>15.0</td>\n",
       "      <td>14.0</td>\n",
       "      <td>11.0</td>\n",
       "      <td>€127.1M</td>\n",
       "      <td>187.96</td>\n",
       "      <td>183</td>\n",
       "      <td>77000000.0</td>\n",
       "      <td>405000.0</td>\n",
       "    </tr>\n",
       "    <tr>\n",
       "      <th>2</th>\n",
       "      <td>2</td>\n",
       "      <td>Neymar Jr</td>\n",
       "      <td>26</td>\n",
       "      <td>Brazil</td>\n",
       "      <td>92</td>\n",
       "      <td>93</td>\n",
       "      <td>Paris Saint-Germain</td>\n",
       "      <td>2143</td>\n",
       "      <td>Right</td>\n",
       "      <td>5.0</td>\n",
       "      <td>...</td>\n",
       "      <td>9.0</td>\n",
       "      <td>9.0</td>\n",
       "      <td>15.0</td>\n",
       "      <td>15.0</td>\n",
       "      <td>11.0</td>\n",
       "      <td>€228.1M</td>\n",
       "      <td>175.26</td>\n",
       "      <td>150</td>\n",
       "      <td>118500000.0</td>\n",
       "      <td>290000.0</td>\n",
       "    </tr>\n",
       "    <tr>\n",
       "      <th>3</th>\n",
       "      <td>3</td>\n",
       "      <td>De Gea</td>\n",
       "      <td>27</td>\n",
       "      <td>Spain</td>\n",
       "      <td>91</td>\n",
       "      <td>93</td>\n",
       "      <td>Manchester United</td>\n",
       "      <td>1471</td>\n",
       "      <td>Right</td>\n",
       "      <td>4.0</td>\n",
       "      <td>...</td>\n",
       "      <td>90.0</td>\n",
       "      <td>85.0</td>\n",
       "      <td>87.0</td>\n",
       "      <td>88.0</td>\n",
       "      <td>94.0</td>\n",
       "      <td>€138.6M</td>\n",
       "      <td>193.04</td>\n",
       "      <td>168</td>\n",
       "      <td>72000000.0</td>\n",
       "      <td>260000.0</td>\n",
       "    </tr>\n",
       "    <tr>\n",
       "      <th>4</th>\n",
       "      <td>4</td>\n",
       "      <td>K. De Bruyne</td>\n",
       "      <td>27</td>\n",
       "      <td>Belgium</td>\n",
       "      <td>91</td>\n",
       "      <td>92</td>\n",
       "      <td>Manchester City</td>\n",
       "      <td>2281</td>\n",
       "      <td>Right</td>\n",
       "      <td>4.0</td>\n",
       "      <td>...</td>\n",
       "      <td>15.0</td>\n",
       "      <td>13.0</td>\n",
       "      <td>5.0</td>\n",
       "      <td>10.0</td>\n",
       "      <td>13.0</td>\n",
       "      <td>€196.4M</td>\n",
       "      <td>180.34</td>\n",
       "      <td>154</td>\n",
       "      <td>102000000.0</td>\n",
       "      <td>355000.0</td>\n",
       "    </tr>\n",
       "  </tbody>\n",
       "</table>\n",
       "<p>5 rows × 85 columns</p>\n",
       "</div>"
      ],
      "text/plain": [
       "   Unnamed: 0               Name  Age Nationality  Overall  Potential  \\\n",
       "0           0           L. Messi   31   Argentina       94         94   \n",
       "1           1  Cristiano Ronaldo   33    Portugal       94         94   \n",
       "2           2          Neymar Jr   26      Brazil       92         93   \n",
       "3           3             De Gea   27       Spain       91         93   \n",
       "4           4       K. De Bruyne   27     Belgium       91         92   \n",
       "\n",
       "                  Club  Special Preferred Foot  International Reputation  ...  \\\n",
       "0         FC Barcelona     2202           Left                       5.0  ...   \n",
       "1             Juventus     2228          Right                       5.0  ...   \n",
       "2  Paris Saint-Germain     2143          Right                       5.0  ...   \n",
       "3    Manchester United     1471          Right                       4.0  ...   \n",
       "4      Manchester City     2281          Right                       4.0  ...   \n",
       "\n",
       "   GKDiving  GKHandling GKKicking GKPositioning GKReflexes Release Clause  \\\n",
       "0       6.0        11.0      15.0          14.0        8.0        €226.5M   \n",
       "1       7.0        11.0      15.0          14.0       11.0        €127.1M   \n",
       "2       9.0         9.0      15.0          15.0       11.0        €228.1M   \n",
       "3      90.0        85.0      87.0          88.0       94.0        €138.6M   \n",
       "4      15.0        13.0       5.0          10.0       13.0        €196.4M   \n",
       "\n",
       "   Height in Cms Weight in Pounds Value in Pounds Wage in Pounds  \n",
       "0         170.18              159     110500000.0       565000.0  \n",
       "1         187.96              183      77000000.0       405000.0  \n",
       "2         175.26              150     118500000.0       290000.0  \n",
       "3         193.04              168      72000000.0       260000.0  \n",
       "4         180.34              154     102000000.0       355000.0  \n",
       "\n",
       "[5 rows x 85 columns]"
      ]
     },
     "execution_count": 58,
     "metadata": {},
     "output_type": "execute_result"
    }
   ],
   "source": [
    "# Pandas is used for data manipulation\n",
    "import pandas as pd\n",
    "# Read in data and display first 5 rows\n",
    "df = pd.read_csv('clean.csv')\n",
    "df.head()"
   ]
  },
  {
   "cell_type": "code",
   "execution_count": 59,
   "metadata": {},
   "outputs": [
    {
     "name": "stdout",
     "output_type": "stream",
     "text": [
      "Name and type of varialbes are: \n",
      "\n",
      "Unnamed: 0            int64\n",
      "Name                 object\n",
      "Age                   int64\n",
      "Nationality          object\n",
      "Overall               int64\n",
      "                     ...   \n",
      "Release Clause       object\n",
      "Height in Cms       float64\n",
      "Weight in Pounds      int64\n",
      "Value in Pounds     float64\n",
      "Wage in Pounds      float64\n",
      "Length: 85, dtype: object\n",
      "\n",
      "The number of variables is 85\n",
      "...The number of categorical variables is 12\n",
      "...The number of continuous variable is 73\n",
      "List of continuous predictor:\n",
      "['Overall', 'Potential', 'Special', 'International Reputation', 'Weak Foot', 'Skill Moves', 'Jersey Number', 'LS', 'ST', 'RS', 'LW', 'LF', 'CF', 'RF', 'RW', 'LAM', 'CAM', 'RAM', 'LM', 'LCM', 'CM', 'RCM', 'RM', 'LWB', 'LDM', 'CDM', 'RDM', 'RWB', 'LB', 'LCB', 'CB', 'RCB', 'RB', 'Crossing', 'Finishing', 'HeadingAccuracy', 'ShortPassing', 'Volleys', 'Dribbling', 'Curve', 'FKAccuracy', 'LongPassing', 'BallControl', 'Acceleration', 'SprintSpeed', 'Agility', 'Reactions', 'Balance', 'ShotPower', 'Jumping', 'Stamina', 'Strength', 'LongShots', 'Aggression', 'Interceptions', 'Positioning', 'Vision', 'Penalties', 'Composure', 'Marking', 'StandingTackle', 'SlidingTackle', 'GKDiving', 'GKHandling', 'GKKicking', 'GKPositioning', 'GKReflexes', 'Height in Cms', 'Weight in Pounds', 'Value in Pounds', 'Wage in Pounds']\n",
      "List of categorical predictor:\n",
      "['Nationality', 'Club', 'Preferred Foot', 'Work Rate', 'Body Type', 'Real Face', 'Position', 'Joined', 'Loaned From', 'Contract Valid Until', 'Release Clause']\n"
     ]
    }
   ],
   "source": [
    "# Check type of predictor feature\n",
    "print('Name and type of varialbes are: \\n')\n",
    "print(df.dtypes)\n",
    "print('\\nThe number of variables is %d' %len(df.columns))\n",
    "print('...The number of categorical variables is %d' %(df.shape[1] - sum(df.dtypes=='float64') - sum(df.dtypes=='int64'))) # <- Count object type (Categorical variable) \n",
    "print('...The number of continuous variable is %d' %(sum(df.dtypes=='float64') + sum(df.dtypes=='int64'))) # <- Count float type (Continuos variable)\n",
    "\n",
    "list_predictor_continuous = []\n",
    "list_predictor_categorical = []\n",
    "\n",
    "for name in df.columns[3:]:\n",
    "    if df[name].dtype == 'float64' or df[name].dtype == 'int64':\n",
    "        list_predictor_continuous.append(name)\n",
    "    else:\n",
    "        list_predictor_categorical.append(name)\n",
    "\n",
    "print('List of continuous predictor:')\n",
    "print(list_predictor_continuous)\n",
    "print('List of categorical predictor:')\n",
    "print(list_predictor_categorical)"
   ]
  },
  {
   "cell_type": "code",
   "execution_count": 60,
   "metadata": {},
   "outputs": [],
   "source": [
    "cat_features = ['Nationality', 'Club', 'Work Rate','Real Face']\n",
    "features = ['ShortPassing','Dribbling','BallControl', 'Reactions','Interceptions', 'Positioning', 'Composure', 'Marking', 'StandingTackle', 'SlidingTackle']\n",
    "\n",
    "from sklearn.preprocessing import OrdinalEncoder, LabelEncoder, MinMaxScaler, StandardScaler, OneHotEncoder\n",
    "import numpy as np\n",
    "# Convert pd.serise to np.array\n",
    "Rredictor_Categorical = df.loc[:,cat_features].values\n",
    "Rredictor_Continuous = df.loc[:,features].values\n",
    "Response_overall = df.loc[:,'Overall'].values \n",
    "\n",
    "# Integer Encoding for Categorical variable\n",
    "enc_pred = OrdinalEncoder() # <- Keep this instance for inverse transform after prediction\n",
    "Rredictor_Categorical_en = enc_pred.fit_transform(Rredictor_Categorical)\n",
    "\n",
    "# MinMax Transform for Continuous variable\n",
    "scaler_pred = MinMaxScaler() # <- Keep this instance for inverse transform after prediction\n",
    "Rredictor = np.concatenate([Rredictor_Continuous, Rredictor_Categorical_en], axis = 1) # <- Include encoded categorical to make the same range\n",
    "Rredictor_scaled = scaler_pred.fit_transform(Rredictor)\n",
    "scaler_res = MinMaxScaler()\n",
    "Response_overall_scaled = scaler_res.fit_transform(Response_overall.reshape(-1,1))\n"
   ]
  },
  {
   "cell_type": "code",
   "execution_count": 61,
   "metadata": {},
   "outputs": [],
   "source": [
    "from sklearn.model_selection import train_test_split\n",
    "X_train, X_test, y_train, y_test = train_test_split(Rredictor, Response_overall_scaled, test_size=0.30)"
   ]
  },
  {
   "cell_type": "markdown",
   "metadata": {},
   "source": [
    "## Linear Regression"
   ]
  },
  {
   "cell_type": "code",
   "execution_count": 62,
   "metadata": {},
   "outputs": [],
   "source": [
    "from sklearn.linear_model import LinearRegression"
   ]
  },
  {
   "cell_type": "code",
   "execution_count": 63,
   "metadata": {},
   "outputs": [
    {
     "data": {
      "text/plain": [
       "LinearRegression()"
      ]
     },
     "execution_count": 63,
     "metadata": {},
     "output_type": "execute_result"
    }
   ],
   "source": [
    "regressor = LinearRegression()\n",
    "# fitting training set into object regressor\n",
    "regressor.fit(X_train,y_train)"
   ]
  },
  {
   "cell_type": "code",
   "execution_count": 64,
   "metadata": {},
   "outputs": [],
   "source": [
    "# Predicting y from test set\n",
    "y_pred= regressor.predict(X_test)"
   ]
  },
  {
   "cell_type": "code",
   "execution_count": 65,
   "metadata": {},
   "outputs": [
    {
     "name": "stdout",
     "output_type": "stream",
     "text": [
      "R2 score: 0.778511106242582\n"
     ]
    }
   ],
   "source": [
    "print('R2 score: '+str(r2_score(y_test, y_pred)))"
   ]
  },
  {
   "cell_type": "code",
   "execution_count": 66,
   "metadata": {},
   "outputs": [
    {
     "data": {
      "image/png": "[encoded data removed]",
      "text/plain": [
       "<Figure size 432x288 with 1 Axes>"
      ]
     },
     "metadata": {
      "needs_background": "light"
     },
     "output_type": "display_data"
    }
   ],
   "source": [
    "import matplotlib.pyplot as plt\n",
    "# Visualising Actual and predicted values of Potential of player\n",
    "plt.scatter(y_test,y_pred)\n",
    "plt.xlabel(\"Actual Overall\")\n",
    "plt.ylabel(\"Predicted Overall\")\n",
    "plt.show()"
   ]
  },
  {
   "cell_type": "markdown",
   "metadata": {},
   "source": [
    "## Random Forest Regression"
   ]
  },
  {
   "cell_type": "code",
   "execution_count": 67,
   "metadata": {},
   "outputs": [
    {
     "name": "stderr",
     "output_type": "stream",
     "text": [
      "<ipython-input-67-7503e9bb1eaf>:3: DataConversionWarning: A column-vector y was passed when a 1d array was expected. Please change the shape of y to (n_samples,), for example using ravel().\n",
      "  random.fit(X_train, y_train)\n"
     ]
    }
   ],
   "source": [
    "from sklearn.ensemble import RandomForestRegressor\n",
    "random = RandomForestRegressor()\n",
    "random.fit(X_train, y_train)\n",
    "y_pred = random.predict(X_test)"
   ]
  },
  {
   "cell_type": "code",
   "execution_count": 68,
   "metadata": {},
   "outputs": [
    {
     "name": "stdout",
     "output_type": "stream",
     "text": [
      "R2 score: 0.9160273059527861\n"
     ]
    }
   ],
   "source": [
    "from sklearn.metrics import r2_score\n",
    "print('R2 score: '+str(r2_score(y_test, y_pred)))"
   ]
  },
  {
   "cell_type": "code",
   "execution_count": 69,
   "metadata": {},
   "outputs": [
    {
     "data": {
      "image/png": "[encoded data removed]",
      "text/plain": [
       "<Figure size 432x288 with 1 Axes>"
      ]
     },
     "metadata": {
      "needs_background": "light"
     },
     "output_type": "display_data"
    }
   ],
   "source": [
    "# Visualising Actual and predicted values of Potential of player\n",
    "plt.scatter(y_test,y_pred)\n",
    "plt.xlabel(\"Actual Overall\")\n",
    "plt.ylabel(\"Predicted Overall\")\n",
    "plt.show()"
   ]
  },
  {
   "cell_type": "code",
   "execution_count": null,
   "metadata": {},
   "outputs": [],
   "source": []
  }
 ],
 "metadata": {
  "kernelspec": {
   "display_name": "Python 3",
   "language": "python",
   "name": "python3"
  },
  "language_info": {
   "codemirror_mode": {
    "name": "ipython",
    "version": 3
   },
   "file_extension": ".py",
   "mimetype": "text/x-python",
   "name": "python",
   "nbconvert_exporter": "python",
   "pygments_lexer": "ipython3",
   "version": "3.8.3"
  }
 },
 "nbformat": 4,
 "nbformat_minor": 2
}
